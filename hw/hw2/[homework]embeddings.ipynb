{
 "cells": [
  {
   "cell_type": "markdown",
   "metadata": {
    "id": "Ot3c4fjZwC4T"
   },
   "source": [
    "<img src=\"https://s8.hostingkartinok.com/uploads/images/2018/08/308b49fcfbc619d629fe4604bceb67ac.jpg\" width=500, height=450>\n",
    "<h3 style=\"text-align: center;\"><b>Физтех-Школа Прикладной математики и информатики (ФПМИ) МФТИ</b></h3>"
   ]
  },
  {
   "cell_type": "markdown",
   "metadata": {
    "id": "P2JdzEXmwRU5"
   },
   "source": [
    "---"
   ]
  },
  {
   "cell_type": "markdown",
   "metadata": {
    "id": "eYtJxkhKpYK2"
   },
   "source": [
    "# Embeddings\n",
    "\n",
    "Привет! В этом домашнем задании мы с помощью эмбеддингов решим задачу семантической классификации твитов.\n",
    "\n",
    "Для этого мы воспользуемся предобученными эмбеддингами word2vec."
   ]
  },
  {
   "cell_type": "markdown",
   "metadata": {
    "id": "jBOdoFS8AdpP"
   },
   "source": [
    "Для начала скачаем датасет для семантической классификации твитов:"
   ]
  },
  {
   "cell_type": "code",
   "execution_count": 1,
   "metadata": {
    "ExecuteTime": {
     "end_time": "2023-01-31T18:51:40.321306Z",
     "start_time": "2023-01-31T18:51:40.168504Z"
    },
    "id": "wXjhtsfF_gBK"
   },
   "outputs": [
    {
     "name": "stdout",
     "output_type": "stream",
     "text": [
      "unzip:  cannot find or open archive.zip, archive.zip.zip or archive.zip.ZIP.\r\n"
     ]
    }
   ],
   "source": [
    "# !gdown https://drive.google.com/uc?id=1eE1FiUkXkcbw0McId4i7qY-L8hH-_Qph&export=download\n",
    "!unzip archive.zip"
   ]
  },
  {
   "cell_type": "markdown",
   "metadata": {
    "id": "Sh6wW-K53Mle"
   },
   "source": [
    "Импортируем нужные библиотеки:"
   ]
  },
  {
   "cell_type": "code",
   "execution_count": 2,
   "metadata": {
    "ExecuteTime": {
     "end_time": "2023-01-31T18:51:42.598248Z",
     "start_time": "2023-01-31T18:51:40.324062Z"
    },
    "id": "A2Y5CHRm6NFe",
    "scrolled": false
   },
   "outputs": [],
   "source": [
    "import math\n",
    "import random\n",
    "import string\n",
    "\n",
    "import numpy as np\n",
    "import pandas as pd\n",
    "import seaborn as sns\n",
    "\n",
    "import regex as re\n",
    "import torch\n",
    "import nltk\n",
    "import gensim\n",
    "import gensim.downloader as api\n",
    "import dill as pickle"
   ]
  },
  {
   "cell_type": "code",
   "execution_count": 3,
   "metadata": {
    "ExecuteTime": {
     "end_time": "2023-01-31T18:51:42.628331Z",
     "start_time": "2023-01-31T18:51:42.599436Z"
    },
    "id": "73Lb0wbESrgQ"
   },
   "outputs": [],
   "source": [
    "random.seed(42)\n",
    "np.random.seed(42)\n",
    "torch.random.manual_seed(42)\n",
    "torch.cuda.random.manual_seed(42)\n",
    "torch.cuda.random.manual_seed_all(42)\n",
    "\n",
    "# device = \"cuda\" if torch.cuda.is_available() else \"cpu\"\n",
    "device = \"mps\" if torch.backends.mps.is_available() else \"cpu\""
   ]
  },
  {
   "cell_type": "code",
   "execution_count": 4,
   "metadata": {
    "ExecuteTime": {
     "end_time": "2023-01-31T18:51:45.207878Z",
     "start_time": "2023-01-31T18:51:42.630539Z"
    },
    "id": "L_Wv-4bu83Fl"
   },
   "outputs": [],
   "source": [
    "data = pd.read_csv(\"training.1600000.processed.noemoticon.csv\", encoding=\"latin\", header=None, names=[\"emotion\", \"id\", \"date\", \"flag\", \"user\", \"text\"])"
   ]
  },
  {
   "cell_type": "markdown",
   "metadata": {
    "id": "RY1pvYDS3Yuj"
   },
   "source": [
    "Посмотрим на данные:"
   ]
  },
  {
   "cell_type": "code",
   "execution_count": 5,
   "metadata": {
    "ExecuteTime": {
     "end_time": "2023-01-31T18:51:45.218245Z",
     "start_time": "2023-01-31T18:51:45.209024Z"
    },
    "id": "jST2tjgjCTWD"
   },
   "outputs": [
    {
     "data": {
      "text/html": [
       "<div>\n",
       "<style scoped>\n",
       "    .dataframe tbody tr th:only-of-type {\n",
       "        vertical-align: middle;\n",
       "    }\n",
       "\n",
       "    .dataframe tbody tr th {\n",
       "        vertical-align: top;\n",
       "    }\n",
       "\n",
       "    .dataframe thead th {\n",
       "        text-align: right;\n",
       "    }\n",
       "</style>\n",
       "<table border=\"1\" class=\"dataframe\">\n",
       "  <thead>\n",
       "    <tr style=\"text-align: right;\">\n",
       "      <th></th>\n",
       "      <th>emotion</th>\n",
       "      <th>id</th>\n",
       "      <th>date</th>\n",
       "      <th>flag</th>\n",
       "      <th>user</th>\n",
       "      <th>text</th>\n",
       "    </tr>\n",
       "  </thead>\n",
       "  <tbody>\n",
       "    <tr>\n",
       "      <th>0</th>\n",
       "      <td>0</td>\n",
       "      <td>1467810369</td>\n",
       "      <td>Mon Apr 06 22:19:45 PDT 2009</td>\n",
       "      <td>NO_QUERY</td>\n",
       "      <td>_TheSpecialOne_</td>\n",
       "      <td>@switchfoot http://twitpic.com/2y1zl - Awww, t...</td>\n",
       "    </tr>\n",
       "    <tr>\n",
       "      <th>1</th>\n",
       "      <td>0</td>\n",
       "      <td>1467810672</td>\n",
       "      <td>Mon Apr 06 22:19:49 PDT 2009</td>\n",
       "      <td>NO_QUERY</td>\n",
       "      <td>scotthamilton</td>\n",
       "      <td>is upset that he can't update his Facebook by ...</td>\n",
       "    </tr>\n",
       "    <tr>\n",
       "      <th>2</th>\n",
       "      <td>0</td>\n",
       "      <td>1467810917</td>\n",
       "      <td>Mon Apr 06 22:19:53 PDT 2009</td>\n",
       "      <td>NO_QUERY</td>\n",
       "      <td>mattycus</td>\n",
       "      <td>@Kenichan I dived many times for the ball. Man...</td>\n",
       "    </tr>\n",
       "    <tr>\n",
       "      <th>3</th>\n",
       "      <td>0</td>\n",
       "      <td>1467811184</td>\n",
       "      <td>Mon Apr 06 22:19:57 PDT 2009</td>\n",
       "      <td>NO_QUERY</td>\n",
       "      <td>ElleCTF</td>\n",
       "      <td>my whole body feels itchy and like its on fire</td>\n",
       "    </tr>\n",
       "    <tr>\n",
       "      <th>4</th>\n",
       "      <td>0</td>\n",
       "      <td>1467811193</td>\n",
       "      <td>Mon Apr 06 22:19:57 PDT 2009</td>\n",
       "      <td>NO_QUERY</td>\n",
       "      <td>Karoli</td>\n",
       "      <td>@nationwideclass no, it's not behaving at all....</td>\n",
       "    </tr>\n",
       "  </tbody>\n",
       "</table>\n",
       "</div>"
      ],
      "text/plain": [
       "   emotion          id                          date      flag  \\\n",
       "0        0  1467810369  Mon Apr 06 22:19:45 PDT 2009  NO_QUERY   \n",
       "1        0  1467810672  Mon Apr 06 22:19:49 PDT 2009  NO_QUERY   \n",
       "2        0  1467810917  Mon Apr 06 22:19:53 PDT 2009  NO_QUERY   \n",
       "3        0  1467811184  Mon Apr 06 22:19:57 PDT 2009  NO_QUERY   \n",
       "4        0  1467811193  Mon Apr 06 22:19:57 PDT 2009  NO_QUERY   \n",
       "\n",
       "              user                                               text  \n",
       "0  _TheSpecialOne_  @switchfoot http://twitpic.com/2y1zl - Awww, t...  \n",
       "1    scotthamilton  is upset that he can't update his Facebook by ...  \n",
       "2         mattycus  @Kenichan I dived many times for the ball. Man...  \n",
       "3          ElleCTF    my whole body feels itchy and like its on fire   \n",
       "4           Karoli  @nationwideclass no, it's not behaving at all....  "
      ]
     },
     "execution_count": 5,
     "metadata": {},
     "output_type": "execute_result"
    }
   ],
   "source": [
    "data.head()"
   ]
  },
  {
   "cell_type": "code",
   "execution_count": 6,
   "metadata": {
    "ExecuteTime": {
     "end_time": "2023-01-31T18:51:45.223672Z",
     "start_time": "2023-01-31T18:51:45.219644Z"
    }
   },
   "outputs": [],
   "source": [
    "data.emotion.replace(4, 1, inplace=True)"
   ]
  },
  {
   "cell_type": "markdown",
   "metadata": {
    "id": "OhbR5JJyA2VW"
   },
   "source": [
    "Выведем несколько примеров твитов, чтобы понимать, с чем мы имеем дело:"
   ]
  },
  {
   "cell_type": "code",
   "execution_count": 7,
   "metadata": {
    "ExecuteTime": {
     "end_time": "2023-01-31T18:51:45.274859Z",
     "start_time": "2023-01-31T18:51:45.225141Z"
    },
    "id": "kCBwe0wR83C2"
   },
   "outputs": [
    {
     "name": "stdout",
     "output_type": "stream",
     "text": [
      "@chrishasboobs AHHH I HOPE YOUR OK!!! \n",
      "@misstoriblack cool , i have no tweet apps  for my razr 2\n",
      "@TiannaChaos i know  just family drama. its lame.hey next time u hang out with kim n u guys like have a sleepover or whatever, ill call u\n",
      "School email won't open  and I have geography stuff on there to revise! *Stupid School* :'(\n",
      "upper airways problem \n",
      "Going to miss Pastor's sermon on Faith... \n",
      "on lunch....dj should come eat with me \n",
      "@piginthepoke oh why are you feeling like that? \n",
      "gahh noo!peyton needs to live!this is horrible \n",
      "@mrstessyman thank you glad you like it! There is a product review bit on the site  Enjoy knitting it!\n"
     ]
    }
   ],
   "source": [
    "examples = data[\"text\"].sample(10)\n",
    "print(\"\\n\".join(examples))"
   ]
  },
  {
   "cell_type": "markdown",
   "metadata": {
    "id": "GvcYW8aX3mKt"
   },
   "source": [
    "Как вилим, тексты твитов очень \"грязные\". Нужно предобработать датасет, прежде чем строить для него модель классификации.\n",
    "\n",
    "Чтобы сравнивать различные методы обработки текста/модели/прочее, разделим датасет на dev(для обучения модели) и test(для получения качества модели)."
   ]
  },
  {
   "cell_type": "code",
   "execution_count": 8,
   "metadata": {
    "ExecuteTime": {
     "end_time": "2023-01-31T18:51:45.493839Z",
     "start_time": "2023-01-31T18:51:45.276236Z"
    },
    "id": "f8hUK-jnQg6O"
   },
   "outputs": [],
   "source": [
    "indexes = np.arange(data.shape[0])\n",
    "np.random.shuffle(indexes)\n",
    "dev_size = math.ceil(data.shape[0] * 0.8)\n",
    "\n",
    "dev_indexes = indexes[:dev_size]\n",
    "test_indexes = indexes[dev_size:]\n",
    "\n",
    "dev_data = data.iloc[dev_indexes]\n",
    "test_data = data.iloc[test_indexes]\n",
    "\n",
    "dev_data.reset_index(drop=True, inplace=True)\n",
    "test_data.reset_index(drop=True, inplace=True)"
   ]
  },
  {
   "cell_type": "markdown",
   "metadata": {
    "id": "6ivcpeFoCnZA"
   },
   "source": [
    "## Обработка текста"
   ]
  },
  {
   "cell_type": "markdown",
   "metadata": {
    "id": "Df4nca285Dar"
   },
   "source": [
    "Токенизируем текст, избавимся от знаков пунктуации и выкинем все слова, состоящие менее чем из 4 букв:"
   ]
  },
  {
   "cell_type": "code",
   "execution_count": 9,
   "metadata": {
    "ExecuteTime": {
     "end_time": "2023-01-31T18:51:45.498471Z",
     "start_time": "2023-01-31T18:51:45.494959Z"
    },
    "id": "nsNHNDES9ZVF"
   },
   "outputs": [
    {
     "name": "stdout",
     "output_type": "stream",
     "text": [
      "@Claire_Nelson i'm on the north devon coast the next few weeks  will be down in Devon again in may sometime i hope though!\n",
      "@ claire_nelson i ' m on the north devon coast the next few weeks will be down in devon again in may sometime i hope though !\n",
      "['@', 'claire_nelson', 'i', \"'\", 'm', 'on', 'the', 'north', 'devon', 'coast', 'the', 'next', 'few', 'weeks', 'will', 'be', 'down', 'in', 'devon', 'again', 'in', 'may', 'sometime', 'i', 'hope', 'though', '!']\n"
     ]
    }
   ],
   "source": [
    "tokenizer = nltk.WordPunctTokenizer()\n",
    "line = tokenizer.tokenize(dev_data[\"text\"][0].lower())\n",
    "print(dev_data.text[0])\n",
    "print(\" \".join(line))\n",
    "print(line)"
   ]
  },
  {
   "cell_type": "code",
   "execution_count": 10,
   "metadata": {
    "ExecuteTime": {
     "end_time": "2023-01-31T18:51:45.504879Z",
     "start_time": "2023-01-31T18:51:45.502219Z"
    },
    "id": "GcBS_u_hTuxp"
   },
   "outputs": [
    {
     "name": "stdout",
     "output_type": "stream",
     "text": [
      "north devon coast next weeks will down devon again sometime hope though\n"
     ]
    }
   ],
   "source": [
    "filtered_line = [w for w in line if all(c not in string.punctuation for c in w) and len(w) > 3]\n",
    "print(\" \".join(filtered_line))"
   ]
  },
  {
   "cell_type": "markdown",
   "metadata": {
    "id": "cuFmlXkC6E7X"
   },
   "source": [
    "Загрузим предобученную модель эмбеддингов. \n",
    "\n",
    "Если хотите, можно попробовать другую. Полный список можно найти здесь: https://github.com/RaRe-Technologies/gensim-data.\n",
    "\n",
    "Данная модель выдает эмбеддинги для **слов**. Строить по эмбеддингам слов эмбеддинги предложений мы будем ниже."
   ]
  },
  {
   "cell_type": "code",
   "execution_count": 11,
   "metadata": {
    "ExecuteTime": {
     "end_time": "2023-01-31T18:52:22.018963Z",
     "start_time": "2023-01-31T18:51:45.506290Z"
    },
    "id": "cACJpje2T5bc"
   },
   "outputs": [],
   "source": [
    "word2vec = api.load(\"word2vec-google-news-300\")"
   ]
  },
  {
   "cell_type": "code",
   "execution_count": 12,
   "metadata": {
    "ExecuteTime": {
     "end_time": "2023-01-31T18:52:22.023130Z",
     "start_time": "2023-01-31T18:52:22.020362Z"
    },
    "id": "NafmYHrkT5YD"
   },
   "outputs": [
    {
     "name": "stdout",
     "output_type": "stream",
     "text": [
      "(300,)\n"
     ]
    }
   ],
   "source": [
    "emb_line = [word2vec.get_vector(w) for w in filtered_line if w in word2vec]\n",
    "print(sum(emb_line).shape)"
   ]
  },
  {
   "cell_type": "markdown",
   "metadata": {
    "id": "LTS6LCkd6_E7"
   },
   "source": [
    "Нормализуем эмбеддинги, прежде чем обучать на них сеть. \n",
    "(наверное, вы помните, что нейронные сети гораздо лучше обучаются на нормализованных данных)"
   ]
  },
  {
   "cell_type": "code",
   "execution_count": 13,
   "metadata": {
    "ExecuteTime": {
     "end_time": "2023-01-31T18:52:24.143740Z",
     "start_time": "2023-01-31T18:52:22.024382Z"
    },
    "id": "3PyLTZ6xf3Oq"
   },
   "outputs": [
    {
     "name": "stdout",
     "output_type": "stream",
     "text": [
      "(300,)\n",
      "[False, False, False, False, False, False, False, False, False, False, False, False]\n"
     ]
    }
   ],
   "source": [
    "mean = np.mean(word2vec.vectors, 0)\n",
    "std = np.std(word2vec.vectors, 0)\n",
    "norm_emb_line = [(word2vec.get_vector(w) - mean) / std for w in filtered_line if w in word2vec and len(w) > 3]\n",
    "print(sum(norm_emb_line).shape)\n",
    "print([all(norm_emb_line[i] == emb_line[i]) for i in range(len(emb_line))])"
   ]
  },
  {
   "cell_type": "markdown",
   "metadata": {
    "id": "q7vm6Ppd7Ubw"
   },
   "source": [
    "Сделаем датасет, который будет по запросу возвращать подготовленные данные."
   ]
  },
  {
   "cell_type": "code",
   "execution_count": 14,
   "metadata": {
    "ExecuteTime": {
     "end_time": "2023-01-31T18:52:24.186678Z",
     "start_time": "2023-01-31T18:52:24.144845Z"
    },
    "id": "b4eZajF7pZ1X"
   },
   "outputs": [],
   "source": [
    "from torch.utils.data import Dataset, random_split\n",
    "from nltk.corpus import stopwords\n",
    "\n",
    "class TwitterDataset(Dataset):\n",
    "    def __init__(self, data: pd.DataFrame, feature_column: str, target_column: str, word2vec: gensim.models.Word2Vec):\n",
    "        self.tokenizer = nltk.WordPunctTokenizer()\n",
    "        self.stop_words = set(stopwords.words('english'))\n",
    "        \n",
    "        self.data = data\n",
    "        \n",
    "        self.feature_column = feature_column\n",
    "        self.target_column = target_column\n",
    "\n",
    "        self.word2vec = word2vec\n",
    "\n",
    "        self.label2num = lambda label: 0 if label == 0 else 1\n",
    "        self.mean = np.mean(word2vec.vectors, axis=0)\n",
    "        self.std = np.std(word2vec.vectors, axis=0)\n",
    "\n",
    "    def __getitem__(self, item):\n",
    "        text = self.data[self.feature_column][item]\n",
    "        label = self.label2num(self.data[self.target_column][item])\n",
    "\n",
    "        tokens = self.get_tokens_(text)\n",
    "        embeddings = self.get_embeddings_(tokens)\n",
    "\n",
    "        return {\"feature\": embeddings, \"target\": label}\n",
    "\n",
    "    def get_tokens_(self, text):\n",
    "        # Получи все токены из текста и профильтруй их\n",
    "        text = re.sub(r\"^@(\\w+)\\b\", \"\", text)\n",
    "        tokenized_text = self.tokenizer.tokenize(text.lower())\n",
    "        filted_stops_and_punct_tokens = [token for token in tokenized_text\n",
    "                                  if all(ch not in string.punctuation for ch in token)\n",
    "                                  and token not in self.stop_words]\n",
    "        return filted_stops_and_punct_tokens\n",
    "        \n",
    "    def get_embeddings_(self, tokens):\n",
    "        # Получи эмбеддинги слов и усредни их (наверное нужно нормализовать их)\n",
    "        embeddings = [(self.word2vec.get_vector(w) - self.mean) / self.std \n",
    "                      for w in tokens if w in self.word2vec and len(w) > 3]\n",
    "        if len(embeddings) == 0:\n",
    "            embeddings = np.zeros((1, self.word2vec.vector_size))\n",
    "        else:\n",
    "            embeddings = np.array(embeddings)\n",
    "            if len(embeddings.shape) == 1:\n",
    "                embeddings = embeddings.reshape(-1, 1)\n",
    "\n",
    "        return embeddings\n",
    "\n",
    "    def __len__(self):\n",
    "        return self.data.shape[0]"
   ]
  },
  {
   "cell_type": "code",
   "execution_count": 15,
   "metadata": {
    "ExecuteTime": {
     "end_time": "2023-01-31T18:52:25.929711Z",
     "start_time": "2023-01-31T18:52:24.188723Z"
    },
    "id": "IZJpttbXpZyz"
   },
   "outputs": [],
   "source": [
    "dev = TwitterDataset(dev_data, \"text\", \"emotion\", word2vec)"
   ]
  },
  {
   "cell_type": "markdown",
   "metadata": {
    "id": "Sr-aetH0_LH1"
   },
   "source": [
    "Отлично, мы готовы с помощью эмбеддингов слов превращать твиты в векторы и обучать нейронную сеть.\n",
    "\n",
    "Превращать твиты в векторы, используя эмбеддинги слов, можно несколькими способами. А именно такими:"
   ]
  },
  {
   "cell_type": "markdown",
   "metadata": {
    "id": "4AhHrWa196Yc"
   },
   "source": [
    "## Average embedding (2 балла)\n",
    "---\n",
    "Это самый простой вариант, как получить вектор предложения, используя векторные представления слов в предложении. А именно: вектор предложения есть средний вектор всех слов в предлоежнии (которые остались после токенизации и удаления коротких слов, конечно). "
   ]
  },
  {
   "cell_type": "code",
   "execution_count": 16,
   "metadata": {
    "ExecuteTime": {
     "end_time": "2023-01-31T18:52:26.112032Z",
     "start_time": "2023-01-31T18:52:25.931093Z"
    },
    "id": "ScdokSW-994t"
   },
   "outputs": [
    {
     "name": "stdout",
     "output_type": "stream",
     "text": [
      "1280\n"
     ]
    }
   ],
   "source": [
    "indexes = np.arange(len(dev))\n",
    "np.random.shuffle(indexes)\n",
    "example_indexes = indexes[::1000]\n",
    "\n",
    "examples = {\"features\": [np.sum(dev[i][\"feature\"], axis=0) for i in example_indexes], \n",
    "            \"targets\": [dev[i][\"target\"] for i in example_indexes]}\n",
    "print(len(examples[\"features\"]))"
   ]
  },
  {
   "cell_type": "code",
   "execution_count": 17,
   "metadata": {
    "ExecuteTime": {
     "end_time": "2023-01-31T18:52:26.115937Z",
     "start_time": "2023-01-31T18:52:26.113519Z"
    }
   },
   "outputs": [],
   "source": [
    "unsqueeze_func = lambda x: np.expand_dims(x, axis=1)"
   ]
  },
  {
   "cell_type": "markdown",
   "metadata": {
    "id": "1yGQ_lOx_1NL"
   },
   "source": [
    "Давайте сделаем визуализацию полученных векторов твитов тренировочного (dev) датасета. Так мы увидим, насколько хорошо твиты с разными target значениями отделяются друг от друга, т.е. насколько хорошо усреднение эмбеддингов слов предложения передает информацию о предложении."
   ]
  },
  {
   "cell_type": "markdown",
   "metadata": {
    "id": "LZwFksd_8uYO"
   },
   "source": [
    "Для визуализации векторов надо получить их проекцию на плоскость. Сделаем это с помощью `PCA`. Если хотите, можете вместо PCA использовать TSNE: так у вас получится более точная проекция на плоскость (а значит, более информативная, т.е. отражающая реальное положение векторов твитов в пространстве). Но TSNE будет работать намного дольше."
   ]
  },
  {
   "cell_type": "code",
   "execution_count": 18,
   "metadata": {
    "ExecuteTime": {
     "end_time": "2023-01-31T18:52:26.163313Z",
     "start_time": "2023-01-31T18:52:26.117543Z"
    },
    "id": "aKFZRSHdtIac"
   },
   "outputs": [],
   "source": [
    "from sklearn.decomposition import PCA\n",
    "\n",
    "# Обучи PCA на эмбеддингах слов\n",
    "pca = PCA(n_components=2)\n",
    "examples[\"transformed_features\"] = pca.fit_transform(np.concatenate(tuple([np.array(unsqueeze_func(sent).T) \n",
    "                                                                           for sent in examples[\"features\"]]),                                                      axis=0))"
   ]
  },
  {
   "cell_type": "code",
   "execution_count": 19,
   "metadata": {
    "ExecuteTime": {
     "end_time": "2023-01-31T18:52:26.374867Z",
     "start_time": "2023-01-31T18:52:26.164945Z"
    },
    "id": "szEOWdiNtIX8"
   },
   "outputs": [
    {
     "data": {
      "text/html": [
       "<div class=\"bk-root\">\n",
       "        <a href=\"https://bokeh.org\" target=\"_blank\" class=\"bk-logo bk-logo-small bk-logo-notebook\"></a>\n",
       "        <span id=\"1002\">Loading BokehJS ...</span>\n",
       "    </div>\n"
      ]
     },
     "metadata": {},
     "output_type": "display_data"
    },
    {
     "data": {
      "application/javascript": [
       "(function(root) {\n",
       "  function now() {\n",
       "    return new Date();\n",
       "  }\n",
       "\n",
       "  const force = true;\n",
       "\n",
       "  if (typeof root._bokeh_onload_callbacks === \"undefined\" || force === true) {\n",
       "    root._bokeh_onload_callbacks = [];\n",
       "    root._bokeh_is_loading = undefined;\n",
       "  }\n",
       "\n",
       "const JS_MIME_TYPE = 'application/javascript';\n",
       "  const HTML_MIME_TYPE = 'text/html';\n",
       "  const EXEC_MIME_TYPE = 'application/vnd.bokehjs_exec.v0+json';\n",
       "  const CLASS_NAME = 'output_bokeh rendered_html';\n",
       "\n",
       "  /**\n",
       "   * Render data to the DOM node\n",
       "   */\n",
       "  function render(props, node) {\n",
       "    const script = document.createElement(\"script\");\n",
       "    node.appendChild(script);\n",
       "  }\n",
       "\n",
       "  /**\n",
       "   * Handle when an output is cleared or removed\n",
       "   */\n",
       "  function handleClearOutput(event, handle) {\n",
       "    const cell = handle.cell;\n",
       "\n",
       "    const id = cell.output_area._bokeh_element_id;\n",
       "    const server_id = cell.output_area._bokeh_server_id;\n",
       "    // Clean up Bokeh references\n",
       "    if (id != null && id in Bokeh.index) {\n",
       "      Bokeh.index[id].model.document.clear();\n",
       "      delete Bokeh.index[id];\n",
       "    }\n",
       "\n",
       "    if (server_id !== undefined) {\n",
       "      // Clean up Bokeh references\n",
       "      const cmd_clean = \"from bokeh.io.state import curstate; print(curstate().uuid_to_server['\" + server_id + \"'].get_sessions()[0].document.roots[0]._id)\";\n",
       "      cell.notebook.kernel.execute(cmd_clean, {\n",
       "        iopub: {\n",
       "          output: function(msg) {\n",
       "            const id = msg.content.text.trim();\n",
       "            if (id in Bokeh.index) {\n",
       "              Bokeh.index[id].model.document.clear();\n",
       "              delete Bokeh.index[id];\n",
       "            }\n",
       "          }\n",
       "        }\n",
       "      });\n",
       "      // Destroy server and session\n",
       "      const cmd_destroy = \"import bokeh.io.notebook as ion; ion.destroy_server('\" + server_id + \"')\";\n",
       "      cell.notebook.kernel.execute(cmd_destroy);\n",
       "    }\n",
       "  }\n",
       "\n",
       "  /**\n",
       "   * Handle when a new output is added\n",
       "   */\n",
       "  function handleAddOutput(event, handle) {\n",
       "    const output_area = handle.output_area;\n",
       "    const output = handle.output;\n",
       "\n",
       "    // limit handleAddOutput to display_data with EXEC_MIME_TYPE content only\n",
       "    if ((output.output_type != \"display_data\") || (!Object.prototype.hasOwnProperty.call(output.data, EXEC_MIME_TYPE))) {\n",
       "      return\n",
       "    }\n",
       "\n",
       "    const toinsert = output_area.element.find(\".\" + CLASS_NAME.split(' ')[0]);\n",
       "\n",
       "    if (output.metadata[EXEC_MIME_TYPE][\"id\"] !== undefined) {\n",
       "      toinsert[toinsert.length - 1].firstChild.textContent = output.data[JS_MIME_TYPE];\n",
       "      // store reference to embed id on output_area\n",
       "      output_area._bokeh_element_id = output.metadata[EXEC_MIME_TYPE][\"id\"];\n",
       "    }\n",
       "    if (output.metadata[EXEC_MIME_TYPE][\"server_id\"] !== undefined) {\n",
       "      const bk_div = document.createElement(\"div\");\n",
       "      bk_div.innerHTML = output.data[HTML_MIME_TYPE];\n",
       "      const script_attrs = bk_div.children[0].attributes;\n",
       "      for (let i = 0; i < script_attrs.length; i++) {\n",
       "        toinsert[toinsert.length - 1].firstChild.setAttribute(script_attrs[i].name, script_attrs[i].value);\n",
       "        toinsert[toinsert.length - 1].firstChild.textContent = bk_div.children[0].textContent\n",
       "      }\n",
       "      // store reference to server id on output_area\n",
       "      output_area._bokeh_server_id = output.metadata[EXEC_MIME_TYPE][\"server_id\"];\n",
       "    }\n",
       "  }\n",
       "\n",
       "  function register_renderer(events, OutputArea) {\n",
       "\n",
       "    function append_mime(data, metadata, element) {\n",
       "      // create a DOM node to render to\n",
       "      const toinsert = this.create_output_subarea(\n",
       "        metadata,\n",
       "        CLASS_NAME,\n",
       "        EXEC_MIME_TYPE\n",
       "      );\n",
       "      this.keyboard_manager.register_events(toinsert);\n",
       "      // Render to node\n",
       "      const props = {data: data, metadata: metadata[EXEC_MIME_TYPE]};\n",
       "      render(props, toinsert[toinsert.length - 1]);\n",
       "      element.append(toinsert);\n",
       "      return toinsert\n",
       "    }\n",
       "\n",
       "    /* Handle when an output is cleared or removed */\n",
       "    events.on('clear_output.CodeCell', handleClearOutput);\n",
       "    events.on('delete.Cell', handleClearOutput);\n",
       "\n",
       "    /* Handle when a new output is added */\n",
       "    events.on('output_added.OutputArea', handleAddOutput);\n",
       "\n",
       "    /**\n",
       "     * Register the mime type and append_mime function with output_area\n",
       "     */\n",
       "    OutputArea.prototype.register_mime_type(EXEC_MIME_TYPE, append_mime, {\n",
       "      /* Is output safe? */\n",
       "      safe: true,\n",
       "      /* Index of renderer in `output_area.display_order` */\n",
       "      index: 0\n",
       "    });\n",
       "  }\n",
       "\n",
       "  // register the mime type if in Jupyter Notebook environment and previously unregistered\n",
       "  if (root.Jupyter !== undefined) {\n",
       "    const events = require('base/js/events');\n",
       "    const OutputArea = require('notebook/js/outputarea').OutputArea;\n",
       "\n",
       "    if (OutputArea.prototype.mime_types().indexOf(EXEC_MIME_TYPE) == -1) {\n",
       "      register_renderer(events, OutputArea);\n",
       "    }\n",
       "  }\n",
       "  if (typeof (root._bokeh_timeout) === \"undefined\" || force === true) {\n",
       "    root._bokeh_timeout = Date.now() + 5000;\n",
       "    root._bokeh_failed_load = false;\n",
       "  }\n",
       "\n",
       "  const NB_LOAD_WARNING = {'data': {'text/html':\n",
       "     \"<div style='background-color: #fdd'>\\n\"+\n",
       "     \"<p>\\n\"+\n",
       "     \"BokehJS does not appear to have successfully loaded. If loading BokehJS from CDN, this \\n\"+\n",
       "     \"may be due to a slow or bad network connection. Possible fixes:\\n\"+\n",
       "     \"</p>\\n\"+\n",
       "     \"<ul>\\n\"+\n",
       "     \"<li>re-rerun `output_notebook()` to attempt to load from CDN again, or</li>\\n\"+\n",
       "     \"<li>use INLINE resources instead, as so:</li>\\n\"+\n",
       "     \"</ul>\\n\"+\n",
       "     \"<code>\\n\"+\n",
       "     \"from bokeh.resources import INLINE\\n\"+\n",
       "     \"output_notebook(resources=INLINE)\\n\"+\n",
       "     \"</code>\\n\"+\n",
       "     \"</div>\"}};\n",
       "\n",
       "  function display_loaded() {\n",
       "    const el = document.getElementById(\"1002\");\n",
       "    if (el != null) {\n",
       "      el.textContent = \"BokehJS is loading...\";\n",
       "    }\n",
       "    if (root.Bokeh !== undefined) {\n",
       "      if (el != null) {\n",
       "        el.textContent = \"BokehJS \" + root.Bokeh.version + \" successfully loaded.\";\n",
       "      }\n",
       "    } else if (Date.now() < root._bokeh_timeout) {\n",
       "      setTimeout(display_loaded, 100)\n",
       "    }\n",
       "  }\n",
       "\n",
       "  function run_callbacks() {\n",
       "    try {\n",
       "      root._bokeh_onload_callbacks.forEach(function(callback) {\n",
       "        if (callback != null)\n",
       "          callback();\n",
       "      });\n",
       "    } finally {\n",
       "      delete root._bokeh_onload_callbacks\n",
       "    }\n",
       "    console.debug(\"Bokeh: all callbacks have finished\");\n",
       "  }\n",
       "\n",
       "  function load_libs(css_urls, js_urls, callback) {\n",
       "    if (css_urls == null) css_urls = [];\n",
       "    if (js_urls == null) js_urls = [];\n",
       "\n",
       "    root._bokeh_onload_callbacks.push(callback);\n",
       "    if (root._bokeh_is_loading > 0) {\n",
       "      console.debug(\"Bokeh: BokehJS is being loaded, scheduling callback at\", now());\n",
       "      return null;\n",
       "    }\n",
       "    if (js_urls == null || js_urls.length === 0) {\n",
       "      run_callbacks();\n",
       "      return null;\n",
       "    }\n",
       "    console.debug(\"Bokeh: BokehJS not loaded, scheduling load and callback at\", now());\n",
       "    root._bokeh_is_loading = css_urls.length + js_urls.length;\n",
       "\n",
       "    function on_load() {\n",
       "      root._bokeh_is_loading--;\n",
       "      if (root._bokeh_is_loading === 0) {\n",
       "        console.debug(\"Bokeh: all BokehJS libraries/stylesheets loaded\");\n",
       "        run_callbacks()\n",
       "      }\n",
       "    }\n",
       "\n",
       "    function on_error(url) {\n",
       "      console.error(\"failed to load \" + url);\n",
       "    }\n",
       "\n",
       "    for (let i = 0; i < css_urls.length; i++) {\n",
       "      const url = css_urls[i];\n",
       "      const element = document.createElement(\"link\");\n",
       "      element.onload = on_load;\n",
       "      element.onerror = on_error.bind(null, url);\n",
       "      element.rel = \"stylesheet\";\n",
       "      element.type = \"text/css\";\n",
       "      element.href = url;\n",
       "      console.debug(\"Bokeh: injecting link tag for BokehJS stylesheet: \", url);\n",
       "      document.body.appendChild(element);\n",
       "    }\n",
       "\n",
       "    for (let i = 0; i < js_urls.length; i++) {\n",
       "      const url = js_urls[i];\n",
       "      const element = document.createElement('script');\n",
       "      element.onload = on_load;\n",
       "      element.onerror = on_error.bind(null, url);\n",
       "      element.async = false;\n",
       "      element.src = url;\n",
       "      console.debug(\"Bokeh: injecting script tag for BokehJS library: \", url);\n",
       "      document.head.appendChild(element);\n",
       "    }\n",
       "  };\n",
       "\n",
       "  function inject_raw_css(css) {\n",
       "    const element = document.createElement(\"style\");\n",
       "    element.appendChild(document.createTextNode(css));\n",
       "    document.body.appendChild(element);\n",
       "  }\n",
       "\n",
       "  const js_urls = [\"https://cdn.bokeh.org/bokeh/release/bokeh-2.4.3.min.js\", \"https://cdn.bokeh.org/bokeh/release/bokeh-gl-2.4.3.min.js\", \"https://cdn.bokeh.org/bokeh/release/bokeh-widgets-2.4.3.min.js\", \"https://cdn.bokeh.org/bokeh/release/bokeh-tables-2.4.3.min.js\", \"https://cdn.bokeh.org/bokeh/release/bokeh-mathjax-2.4.3.min.js\"];\n",
       "  const css_urls = [];\n",
       "\n",
       "  const inline_js = [    function(Bokeh) {\n",
       "      Bokeh.set_log_level(\"info\");\n",
       "    },\n",
       "function(Bokeh) {\n",
       "    }\n",
       "  ];\n",
       "\n",
       "  function run_inline_js() {\n",
       "    if (root.Bokeh !== undefined || force === true) {\n",
       "          for (let i = 0; i < inline_js.length; i++) {\n",
       "      inline_js[i].call(root, root.Bokeh);\n",
       "    }\n",
       "if (force === true) {\n",
       "        display_loaded();\n",
       "      }} else if (Date.now() < root._bokeh_timeout) {\n",
       "      setTimeout(run_inline_js, 100);\n",
       "    } else if (!root._bokeh_failed_load) {\n",
       "      console.log(\"Bokeh: BokehJS failed to load within specified timeout.\");\n",
       "      root._bokeh_failed_load = true;\n",
       "    } else if (force !== true) {\n",
       "      const cell = $(document.getElementById(\"1002\")).parents('.cell').data().cell;\n",
       "      cell.output_area.append_execute_result(NB_LOAD_WARNING)\n",
       "    }\n",
       "  }\n",
       "\n",
       "  if (root._bokeh_is_loading === 0) {\n",
       "    console.debug(\"Bokeh: BokehJS loaded, going straight to plotting\");\n",
       "    run_inline_js();\n",
       "  } else {\n",
       "    load_libs(css_urls, js_urls, function() {\n",
       "      console.debug(\"Bokeh: BokehJS plotting callback run at\", now());\n",
       "      run_inline_js();\n",
       "    });\n",
       "  }\n",
       "}(window));"
      ],
      "application/vnd.bokehjs_load.v0+json": "(function(root) {\n  function now() {\n    return new Date();\n  }\n\n  const force = true;\n\n  if (typeof root._bokeh_onload_callbacks === \"undefined\" || force === true) {\n    root._bokeh_onload_callbacks = [];\n    root._bokeh_is_loading = undefined;\n  }\n\n\n  if (typeof (root._bokeh_timeout) === \"undefined\" || force === true) {\n    root._bokeh_timeout = Date.now() + 5000;\n    root._bokeh_failed_load = false;\n  }\n\n  const NB_LOAD_WARNING = {'data': {'text/html':\n     \"<div style='background-color: #fdd'>\\n\"+\n     \"<p>\\n\"+\n     \"BokehJS does not appear to have successfully loaded. If loading BokehJS from CDN, this \\n\"+\n     \"may be due to a slow or bad network connection. Possible fixes:\\n\"+\n     \"</p>\\n\"+\n     \"<ul>\\n\"+\n     \"<li>re-rerun `output_notebook()` to attempt to load from CDN again, or</li>\\n\"+\n     \"<li>use INLINE resources instead, as so:</li>\\n\"+\n     \"</ul>\\n\"+\n     \"<code>\\n\"+\n     \"from bokeh.resources import INLINE\\n\"+\n     \"output_notebook(resources=INLINE)\\n\"+\n     \"</code>\\n\"+\n     \"</div>\"}};\n\n  function display_loaded() {\n    const el = document.getElementById(\"1002\");\n    if (el != null) {\n      el.textContent = \"BokehJS is loading...\";\n    }\n    if (root.Bokeh !== undefined) {\n      if (el != null) {\n        el.textContent = \"BokehJS \" + root.Bokeh.version + \" successfully loaded.\";\n      }\n    } else if (Date.now() < root._bokeh_timeout) {\n      setTimeout(display_loaded, 100)\n    }\n  }\n\n  function run_callbacks() {\n    try {\n      root._bokeh_onload_callbacks.forEach(function(callback) {\n        if (callback != null)\n          callback();\n      });\n    } finally {\n      delete root._bokeh_onload_callbacks\n    }\n    console.debug(\"Bokeh: all callbacks have finished\");\n  }\n\n  function load_libs(css_urls, js_urls, callback) {\n    if (css_urls == null) css_urls = [];\n    if (js_urls == null) js_urls = [];\n\n    root._bokeh_onload_callbacks.push(callback);\n    if (root._bokeh_is_loading > 0) {\n      console.debug(\"Bokeh: BokehJS is being loaded, scheduling callback at\", now());\n      return null;\n    }\n    if (js_urls == null || js_urls.length === 0) {\n      run_callbacks();\n      return null;\n    }\n    console.debug(\"Bokeh: BokehJS not loaded, scheduling load and callback at\", now());\n    root._bokeh_is_loading = css_urls.length + js_urls.length;\n\n    function on_load() {\n      root._bokeh_is_loading--;\n      if (root._bokeh_is_loading === 0) {\n        console.debug(\"Bokeh: all BokehJS libraries/stylesheets loaded\");\n        run_callbacks()\n      }\n    }\n\n    function on_error(url) {\n      console.error(\"failed to load \" + url);\n    }\n\n    for (let i = 0; i < css_urls.length; i++) {\n      const url = css_urls[i];\n      const element = document.createElement(\"link\");\n      element.onload = on_load;\n      element.onerror = on_error.bind(null, url);\n      element.rel = \"stylesheet\";\n      element.type = \"text/css\";\n      element.href = url;\n      console.debug(\"Bokeh: injecting link tag for BokehJS stylesheet: \", url);\n      document.body.appendChild(element);\n    }\n\n    for (let i = 0; i < js_urls.length; i++) {\n      const url = js_urls[i];\n      const element = document.createElement('script');\n      element.onload = on_load;\n      element.onerror = on_error.bind(null, url);\n      element.async = false;\n      element.src = url;\n      console.debug(\"Bokeh: injecting script tag for BokehJS library: \", url);\n      document.head.appendChild(element);\n    }\n  };\n\n  function inject_raw_css(css) {\n    const element = document.createElement(\"style\");\n    element.appendChild(document.createTextNode(css));\n    document.body.appendChild(element);\n  }\n\n  const js_urls = [\"https://cdn.bokeh.org/bokeh/release/bokeh-2.4.3.min.js\", \"https://cdn.bokeh.org/bokeh/release/bokeh-gl-2.4.3.min.js\", \"https://cdn.bokeh.org/bokeh/release/bokeh-widgets-2.4.3.min.js\", \"https://cdn.bokeh.org/bokeh/release/bokeh-tables-2.4.3.min.js\", \"https://cdn.bokeh.org/bokeh/release/bokeh-mathjax-2.4.3.min.js\"];\n  const css_urls = [];\n\n  const inline_js = [    function(Bokeh) {\n      Bokeh.set_log_level(\"info\");\n    },\nfunction(Bokeh) {\n    }\n  ];\n\n  function run_inline_js() {\n    if (root.Bokeh !== undefined || force === true) {\n          for (let i = 0; i < inline_js.length; i++) {\n      inline_js[i].call(root, root.Bokeh);\n    }\nif (force === true) {\n        display_loaded();\n      }} else if (Date.now() < root._bokeh_timeout) {\n      setTimeout(run_inline_js, 100);\n    } else if (!root._bokeh_failed_load) {\n      console.log(\"Bokeh: BokehJS failed to load within specified timeout.\");\n      root._bokeh_failed_load = true;\n    } else if (force !== true) {\n      const cell = $(document.getElementById(\"1002\")).parents('.cell').data().cell;\n      cell.output_area.append_execute_result(NB_LOAD_WARNING)\n    }\n  }\n\n  if (root._bokeh_is_loading === 0) {\n    console.debug(\"Bokeh: BokehJS loaded, going straight to plotting\");\n    run_inline_js();\n  } else {\n    load_libs(css_urls, js_urls, function() {\n      console.debug(\"Bokeh: BokehJS plotting callback run at\", now());\n      run_inline_js();\n    });\n  }\n}(window));"
     },
     "metadata": {},
     "output_type": "display_data"
    }
   ],
   "source": [
    "import bokeh.models as bm, bokeh.plotting as pl\n",
    "from bokeh.io import output_notebook\n",
    "output_notebook()\n",
    "\n",
    "def draw_vectors(x, y, radius=10, alpha=0.25, color='blue',\n",
    "                 width=600, height=400, show=True, **kwargs):\n",
    "    \"\"\" draws an interactive plot for data points with auxilirary info on hover \"\"\"\n",
    "    data_source = bm.ColumnDataSource({ 'x' : x, 'y' : y, 'color': color, **kwargs })\n",
    "\n",
    "    fig = pl.figure(active_scroll='wheel_zoom', width=width, height=height)\n",
    "    fig.scatter('x', 'y', size=radius, color='color', alpha=alpha, source=data_source)\n",
    "\n",
    "    fig.add_tools(bm.HoverTool(tooltips=[(key, \"@\" + key) for key in kwargs.keys()]))\n",
    "    if show: pl.show(fig)\n",
    "    return fig"
   ]
  },
  {
   "cell_type": "code",
   "execution_count": 20,
   "metadata": {
    "ExecuteTime": {
     "end_time": "2023-01-31T18:52:26.411331Z",
     "start_time": "2023-01-31T18:52:26.376547Z"
    },
    "id": "7OONK8ldtIWe"
   },
   "outputs": [
    {
     "data": {
      "text/html": [
       "\n",
       "  <div class=\"bk-root\" id=\"a9a4d8e0-af81-432c-adae-9c1791769040\" data-root-id=\"1004\"></div>\n"
      ]
     },
     "metadata": {},
     "output_type": "display_data"
    },
    {
     "data": {
      "application/javascript": [
       "(function(root) {\n",
       "  function embed_document(root) {\n",
       "  const docs_json = {\"24ae7e80-7a5b-4923-b7b4-38f5996d538f\":{\"defs\":[],\"roots\":{\"references\":[{\"attributes\":{\"below\":[{\"id\":\"1013\"}],\"center\":[{\"id\":\"1016\"},{\"id\":\"1020\"}],\"height\":400,\"left\":[{\"id\":\"1017\"}],\"renderers\":[{\"id\":\"1039\"}],\"title\":{\"id\":\"1043\"},\"toolbar\":{\"id\":\"1028\"},\"x_range\":{\"id\":\"1005\"},\"x_scale\":{\"id\":\"1009\"},\"y_range\":{\"id\":\"1007\"},\"y_scale\":{\"id\":\"1011\"}},\"id\":\"1004\",\"subtype\":\"Figure\",\"type\":\"Plot\"},{\"attributes\":{\"source\":{\"id\":\"1003\"}},\"id\":\"1040\",\"type\":\"CDSView\"},{\"attributes\":{},\"id\":\"1052\",\"type\":\"Selection\"},{\"attributes\":{\"axis\":{\"id\":\"1013\"},\"coordinates\":null,\"group\":null,\"ticker\":null},\"id\":\"1016\",\"type\":\"Grid\"},{\"attributes\":{},\"id\":\"1014\",\"type\":\"BasicTicker\"},{\"attributes\":{},\"id\":\"1021\",\"type\":\"PanTool\"},{\"attributes\":{},\"id\":\"1051\",\"type\":\"UnionRenderers\"},{\"attributes\":{},\"id\":\"1009\",\"type\":\"LinearScale\"},{\"attributes\":{},\"id\":\"1011\",\"type\":\"LinearScale\"},{\"attributes\":{\"coordinates\":null,\"formatter\":{\"id\":\"1046\"},\"group\":null,\"major_label_policy\":{\"id\":\"1047\"},\"ticker\":{\"id\":\"1018\"}},\"id\":\"1017\",\"type\":\"LinearAxis\"},{\"attributes\":{},\"id\":\"1025\",\"type\":\"ResetTool\"},{\"attributes\":{},\"id\":\"1007\",\"type\":\"DataRange1d\"},{\"attributes\":{},\"id\":\"1005\",\"type\":\"DataRange1d\"},{\"attributes\":{\"fill_alpha\":{\"value\":0.2},\"fill_color\":{\"field\":\"color\"},\"hatch_alpha\":{\"value\":0.2},\"hatch_color\":{\"field\":\"color\"},\"line_alpha\":{\"value\":0.2},\"line_color\":{\"field\":\"color\"},\"size\":{\"value\":10},\"x\":{\"field\":\"x\"},\"y\":{\"field\":\"y\"}},\"id\":\"1038\",\"type\":\"Scatter\"},{\"attributes\":{\"bottom_units\":\"screen\",\"coordinates\":null,\"fill_alpha\":0.5,\"fill_color\":\"lightgrey\",\"group\":null,\"left_units\":\"screen\",\"level\":\"overlay\",\"line_alpha\":1.0,\"line_color\":\"black\",\"line_dash\":[4,4],\"line_width\":2,\"right_units\":\"screen\",\"syncable\":false,\"top_units\":\"screen\"},\"id\":\"1027\",\"type\":\"BoxAnnotation\"},{\"attributes\":{},\"id\":\"1050\",\"type\":\"AllLabels\"},{\"attributes\":{},\"id\":\"1049\",\"type\":\"BasicTickFormatter\"},{\"attributes\":{},\"id\":\"1024\",\"type\":\"SaveTool\"},{\"attributes\":{},\"id\":\"1047\",\"type\":\"AllLabels\"},{\"attributes\":{\"overlay\":{\"id\":\"1027\"}},\"id\":\"1023\",\"type\":\"BoxZoomTool\"},{\"attributes\":{\"active_scroll\":{\"id\":\"1022\"},\"tools\":[{\"id\":\"1021\"},{\"id\":\"1022\"},{\"id\":\"1023\"},{\"id\":\"1024\"},{\"id\":\"1025\"},{\"id\":\"1026\"},{\"id\":\"1041\"}]},\"id\":\"1028\",\"type\":\"Toolbar\"},{\"attributes\":{\"fill_alpha\":{\"value\":0.1},\"fill_color\":{\"field\":\"color\"},\"hatch_alpha\":{\"value\":0.1},\"hatch_color\":{\"field\":\"color\"},\"line_alpha\":{\"value\":0.1},\"line_color\":{\"field\":\"color\"},\"size\":{\"value\":10},\"x\":{\"field\":\"x\"},\"y\":{\"field\":\"y\"}},\"id\":\"1037\",\"type\":\"Scatter\"},{\"attributes\":{},\"id\":\"1022\",\"type\":\"WheelZoomTool\"},{\"attributes\":{\"coordinates\":null,\"formatter\":{\"id\":\"1049\"},\"group\":null,\"major_label_policy\":{\"id\":\"1050\"},\"ticker\":{\"id\":\"1014\"}},\"id\":\"1013\",\"type\":\"LinearAxis\"},{\"attributes\":{\"data\":{\"color\":[\"red\",\"red\",\"red\",\"blue\",\"red\",\"blue\",\"blue\",\"blue\",\"blue\",\"blue\",\"blue\",\"blue\",\"blue\",\"red\",\"red\",\"blue\",\"blue\",\"blue\",\"red\",\"blue\",\"blue\",\"blue\",\"blue\",\"red\",\"blue\",\"blue\",\"red\",\"red\",\"blue\",\"red\",\"blue\",\"red\",\"red\",\"blue\",\"red\",\"red\",\"blue\",\"red\",\"blue\",\"blue\",\"red\",\"blue\",\"blue\",\"blue\",\"red\",\"red\",\"red\",\"red\",\"blue\",\"red\",\"blue\",\"blue\",\"blue\",\"red\",\"blue\",\"red\",\"blue\",\"blue\",\"red\",\"red\",\"red\",\"blue\",\"blue\",\"red\",\"red\",\"blue\",\"blue\",\"red\",\"blue\",\"blue\",\"blue\",\"blue\",\"red\",\"red\",\"red\",\"red\",\"red\",\"blue\",\"red\",\"red\",\"blue\",\"blue\",\"red\",\"red\",\"blue\",\"red\",\"red\",\"red\",\"blue\",\"red\",\"red\",\"red\",\"red\",\"blue\",\"blue\",\"red\",\"red\",\"blue\",\"red\",\"red\",\"blue\",\"red\",\"blue\",\"red\",\"red\",\"red\",\"red\",\"blue\",\"red\",\"blue\",\"blue\",\"blue\",\"blue\",\"red\",\"red\",\"blue\",\"blue\",\"blue\",\"red\",\"blue\",\"red\",\"red\",\"red\",\"red\",\"blue\",\"blue\",\"red\",\"blue\",\"red\",\"blue\",\"blue\",\"blue\",\"red\",\"blue\",\"red\",\"blue\",\"red\",\"red\",\"blue\",\"red\",\"red\",\"blue\",\"red\",\"red\",\"blue\",\"red\",\"red\",\"blue\",\"blue\",\"blue\",\"blue\",\"red\",\"red\",\"red\",\"blue\",\"red\",\"red\",\"red\",\"blue\",\"red\",\"red\",\"red\",\"red\",\"red\",\"red\",\"blue\",\"blue\",\"red\",\"blue\",\"blue\",\"red\",\"red\",\"red\",\"blue\",\"red\",\"red\",\"blue\",\"red\",\"blue\",\"blue\",\"red\",\"blue\",\"red\",\"red\",\"blue\",\"blue\",\"blue\",\"blue\",\"blue\",\"red\",\"red\",\"red\",\"blue\",\"blue\",\"blue\",\"red\",\"red\",\"blue\",\"blue\",\"blue\",\"blue\",\"blue\",\"blue\",\"red\",\"red\",\"red\",\"red\",\"red\",\"red\",\"red\",\"red\",\"red\",\"blue\",\"blue\",\"blue\",\"red\",\"blue\",\"red\",\"blue\",\"blue\",\"red\",\"blue\",\"red\",\"blue\",\"blue\",\"red\",\"blue\",\"blue\",\"blue\",\"blue\",\"red\",\"blue\",\"red\",\"red\",\"red\",\"blue\",\"red\",\"blue\",\"red\",\"red\",\"red\",\"blue\",\"red\",\"blue\",\"red\",\"blue\",\"red\",\"blue\",\"red\",\"blue\",\"blue\",\"blue\",\"blue\",\"blue\",\"blue\",\"blue\",\"red\",\"red\",\"red\",\"red\",\"blue\",\"red\",\"red\",\"blue\",\"blue\",\"blue\",\"red\",\"red\",\"red\",\"red\",\"blue\",\"blue\",\"blue\",\"blue\",\"blue\",\"blue\",\"blue\",\"red\",\"blue\",\"red\",\"red\",\"red\",\"blue\",\"red\",\"red\",\"blue\",\"blue\",\"red\",\"blue\",\"blue\",\"red\",\"red\",\"blue\",\"red\",\"red\",\"blue\",\"blue\",\"red\",\"blue\",\"red\",\"red\",\"blue\",\"red\",\"red\",\"blue\",\"red\",\"blue\",\"blue\",\"red\",\"red\",\"blue\",\"blue\",\"blue\",\"red\",\"blue\",\"blue\",\"red\",\"red\",\"red\",\"blue\",\"blue\",\"red\",\"blue\",\"red\",\"red\",\"red\",\"red\",\"red\",\"blue\",\"blue\",\"red\",\"red\",\"red\",\"red\",\"red\",\"blue\",\"red\",\"red\",\"red\",\"blue\",\"blue\",\"blue\",\"blue\",\"blue\",\"red\",\"blue\",\"blue\",\"red\",\"red\",\"blue\",\"blue\",\"blue\",\"blue\",\"red\",\"blue\",\"blue\",\"blue\",\"blue\",\"red\",\"blue\",\"red\",\"blue\",\"red\",\"red\",\"blue\",\"blue\",\"blue\",\"red\",\"red\",\"blue\",\"red\",\"red\",\"red\",\"blue\",\"red\",\"blue\",\"blue\",\"blue\",\"red\",\"red\",\"red\",\"blue\",\"blue\",\"red\",\"blue\",\"blue\",\"red\",\"blue\",\"blue\",\"red\",\"blue\",\"blue\",\"red\",\"blue\",\"red\",\"red\",\"blue\",\"blue\",\"blue\",\"red\",\"blue\",\"blue\",\"blue\",\"red\",\"red\",\"blue\",\"blue\",\"blue\",\"red\",\"blue\",\"blue\",\"blue\",\"red\",\"blue\",\"blue\",\"blue\",\"blue\",\"red\",\"blue\",\"blue\",\"red\",\"red\",\"red\",\"blue\",\"blue\",\"blue\",\"red\",\"red\",\"blue\",\"blue\",\"blue\",\"red\",\"blue\",\"blue\",\"blue\",\"blue\",\"blue\",\"red\",\"red\",\"blue\",\"blue\",\"blue\",\"red\",\"red\",\"blue\",\"red\",\"red\",\"red\",\"blue\",\"red\",\"red\",\"blue\",\"red\",\"blue\",\"blue\",\"red\",\"blue\",\"blue\",\"red\",\"red\",\"blue\",\"blue\",\"blue\",\"blue\",\"red\",\"red\",\"red\",\"red\",\"blue\",\"blue\",\"blue\",\"red\",\"blue\",\"blue\",\"red\",\"blue\",\"red\",\"red\",\"blue\",\"red\",\"blue\",\"red\",\"red\",\"blue\",\"red\",\"blue\",\"blue\",\"blue\",\"red\",\"blue\",\"red\",\"blue\",\"blue\",\"blue\",\"blue\",\"blue\",\"red\",\"blue\",\"blue\",\"red\",\"blue\",\"red\",\"blue\",\"red\",\"blue\",\"red\",\"red\",\"red\",\"red\",\"red\",\"red\",\"blue\",\"blue\",\"blue\",\"red\",\"blue\",\"red\",\"red\",\"blue\",\"red\",\"red\",\"red\",\"red\",\"red\",\"red\",\"blue\",\"blue\",\"blue\",\"red\",\"blue\",\"red\",\"blue\",\"blue\",\"red\",\"red\",\"red\",\"blue\",\"red\",\"blue\",\"blue\",\"blue\",\"red\",\"blue\",\"blue\",\"red\",\"blue\",\"blue\",\"blue\",\"blue\",\"blue\",\"blue\",\"red\",\"red\",\"red\",\"blue\",\"blue\",\"red\",\"blue\",\"blue\",\"blue\",\"red\",\"blue\",\"red\",\"blue\",\"blue\",\"red\",\"red\",\"blue\",\"red\",\"red\",\"red\",\"blue\",\"red\",\"red\",\"blue\",\"red\",\"red\",\"blue\",\"blue\",\"blue\",\"red\",\"red\",\"red\",\"blue\",\"blue\",\"blue\",\"red\",\"red\",\"red\",\"red\",\"blue\",\"blue\",\"red\",\"red\",\"red\",\"red\",\"red\",\"red\",\"blue\",\"blue\",\"red\",\"red\",\"red\",\"blue\",\"red\",\"red\",\"red\",\"blue\",\"red\",\"red\",\"blue\",\"red\",\"red\",\"blue\",\"blue\",\"blue\",\"red\",\"blue\",\"blue\",\"blue\",\"red\",\"red\",\"red\",\"blue\",\"blue\",\"red\",\"red\",\"blue\",\"red\",\"blue\",\"blue\",\"blue\",\"red\",\"red\",\"blue\",\"red\",\"red\",\"blue\",\"red\",\"blue\",\"blue\",\"red\",\"red\",\"red\",\"red\",\"red\",\"red\",\"red\",\"red\",\"red\",\"blue\",\"blue\",\"blue\",\"red\",\"red\",\"blue\",\"blue\",\"blue\",\"red\",\"blue\",\"blue\",\"blue\",\"blue\",\"red\",\"blue\",\"red\",\"blue\",\"red\",\"red\",\"red\",\"blue\",\"red\",\"red\",\"red\",\"blue\",\"red\",\"blue\",\"blue\",\"blue\",\"red\",\"red\",\"red\",\"blue\",\"blue\",\"blue\",\"red\",\"red\",\"red\",\"blue\",\"red\",\"red\",\"red\",\"blue\",\"red\",\"blue\",\"red\",\"red\",\"blue\",\"red\",\"blue\",\"blue\",\"red\",\"red\",\"blue\",\"blue\",\"blue\",\"blue\",\"red\",\"blue\",\"blue\",\"red\",\"red\",\"red\",\"red\",\"blue\",\"blue\",\"red\",\"red\",\"red\",\"red\",\"red\",\"blue\",\"blue\",\"red\",\"red\",\"red\",\"blue\",\"blue\",\"blue\",\"blue\",\"blue\",\"red\",\"red\",\"red\",\"blue\",\"blue\",\"red\",\"red\",\"red\",\"red\",\"red\",\"blue\",\"blue\",\"blue\",\"red\",\"red\",\"red\",\"red\",\"red\",\"blue\",\"red\",\"red\",\"red\",\"blue\",\"red\",\"red\",\"red\",\"red\",\"red\",\"red\",\"red\",\"red\",\"red\",\"blue\",\"blue\",\"blue\",\"blue\",\"blue\",\"red\",\"blue\",\"blue\",\"red\",\"blue\",\"red\",\"red\",\"blue\",\"red\",\"red\",\"blue\",\"red\",\"blue\",\"red\",\"red\",\"red\",\"blue\",\"red\",\"blue\",\"blue\",\"blue\",\"red\",\"blue\",\"blue\",\"red\",\"blue\",\"blue\",\"blue\",\"blue\",\"red\",\"blue\",\"red\",\"red\",\"red\",\"red\",\"blue\",\"blue\",\"red\",\"red\",\"blue\",\"red\",\"red\",\"blue\",\"red\",\"blue\",\"red\",\"blue\",\"blue\",\"red\",\"blue\",\"blue\",\"blue\",\"red\",\"blue\",\"red\",\"blue\",\"blue\",\"red\",\"red\",\"red\",\"blue\",\"blue\",\"blue\",\"red\",\"blue\",\"red\",\"blue\",\"blue\",\"red\",\"blue\",\"blue\",\"blue\",\"red\",\"red\",\"red\",\"blue\",\"red\",\"red\",\"red\",\"blue\",\"red\",\"red\",\"blue\",\"red\",\"blue\",\"blue\",\"blue\",\"red\",\"blue\",\"blue\",\"red\",\"red\",\"red\",\"blue\",\"blue\",\"blue\",\"red\",\"blue\",\"red\",\"blue\",\"red\",\"red\",\"blue\",\"red\",\"red\",\"red\",\"blue\",\"blue\",\"blue\",\"red\",\"red\",\"red\",\"red\",\"red\",\"red\",\"blue\",\"red\",\"red\",\"blue\",\"red\",\"red\",\"blue\",\"red\",\"blue\",\"blue\",\"blue\",\"blue\",\"red\",\"blue\",\"blue\",\"blue\",\"blue\",\"red\",\"red\",\"blue\",\"blue\",\"red\",\"red\",\"red\",\"blue\",\"red\",\"red\",\"blue\",\"blue\",\"red\",\"red\",\"blue\",\"red\",\"red\",\"blue\",\"red\",\"red\",\"red\",\"blue\",\"blue\",\"red\",\"red\",\"red\",\"blue\",\"red\",\"blue\",\"red\",\"blue\",\"red\",\"blue\",\"red\",\"blue\",\"red\",\"red\",\"blue\",\"blue\",\"blue\",\"red\",\"red\",\"red\",\"red\",\"red\",\"red\",\"blue\",\"red\",\"blue\",\"red\",\"blue\",\"red\",\"blue\",\"blue\",\"blue\",\"red\",\"blue\",\"blue\",\"red\",\"blue\",\"blue\",\"blue\",\"red\",\"red\",\"red\",\"blue\",\"blue\",\"blue\",\"red\",\"red\",\"blue\",\"red\",\"red\",\"red\",\"red\",\"blue\",\"red\",\"red\",\"red\",\"red\",\"blue\",\"blue\",\"blue\",\"red\",\"blue\",\"red\",\"red\",\"blue\",\"red\",\"blue\",\"blue\",\"red\",\"red\",\"red\",\"blue\",\"blue\",\"blue\",\"blue\",\"red\",\"red\",\"blue\",\"blue\",\"red\",\"blue\",\"blue\",\"blue\",\"blue\",\"red\",\"blue\",\"red\",\"red\",\"blue\",\"blue\",\"blue\",\"blue\",\"blue\",\"red\",\"red\",\"red\",\"red\",\"blue\",\"red\",\"blue\",\"red\",\"blue\",\"red\",\"blue\",\"red\",\"blue\",\"red\",\"blue\",\"blue\",\"red\",\"blue\",\"red\",\"blue\",\"red\",\"blue\",\"blue\",\"blue\",\"red\",\"red\",\"blue\",\"red\",\"red\",\"blue\",\"blue\",\"blue\",\"red\",\"blue\",\"blue\",\"red\",\"red\",\"red\",\"blue\",\"red\",\"blue\",\"blue\",\"red\",\"red\",\"red\",\"blue\",\"red\",\"blue\",\"blue\",\"blue\",\"red\",\"blue\",\"red\",\"red\",\"red\",\"red\",\"red\",\"red\",\"blue\",\"red\",\"blue\",\"blue\",\"blue\",\"red\",\"blue\",\"red\",\"red\",\"blue\",\"blue\",\"red\",\"red\",\"blue\",\"red\",\"blue\",\"red\",\"red\",\"blue\",\"red\",\"red\",\"blue\",\"red\",\"red\",\"red\",\"blue\",\"blue\",\"blue\",\"red\",\"blue\",\"blue\",\"blue\",\"red\",\"blue\",\"red\",\"red\",\"blue\",\"red\",\"blue\",\"blue\",\"red\",\"blue\",\"red\",\"blue\",\"blue\",\"red\",\"blue\",\"blue\",\"red\",\"blue\",\"blue\",\"blue\",\"red\",\"red\",\"blue\",\"blue\",\"red\",\"blue\",\"red\",\"red\",\"red\",\"blue\",\"blue\",\"blue\",\"red\",\"blue\",\"blue\",\"blue\",\"red\",\"blue\",\"blue\",\"blue\",\"blue\",\"blue\",\"red\",\"blue\",\"blue\",\"red\",\"red\",\"blue\",\"red\",\"red\",\"red\",\"blue\",\"blue\",\"blue\",\"red\",\"blue\",\"blue\",\"blue\",\"red\",\"red\",\"red\",\"red\",\"red\",\"blue\",\"blue\",\"red\",\"blue\",\"red\",\"blue\",\"blue\",\"blue\",\"red\",\"red\",\"red\",\"blue\",\"blue\",\"red\",\"red\",\"blue\",\"red\",\"blue\",\"blue\",\"red\",\"blue\",\"blue\",\"red\",\"red\",\"red\",\"red\",\"red\",\"red\",\"blue\",\"red\",\"red\",\"blue\",\"blue\",\"red\",\"blue\",\"blue\",\"blue\",\"red\",\"blue\",\"blue\",\"blue\",\"blue\",\"blue\",\"red\",\"red\",\"red\",\"red\",\"red\",\"red\",\"blue\",\"blue\",\"red\",\"red\",\"red\",\"blue\",\"red\",\"blue\",\"blue\",\"red\",\"blue\",\"blue\",\"red\",\"blue\",\"red\",\"red\",\"blue\",\"red\",\"red\",\"blue\",\"blue\",\"blue\",\"red\",\"red\",\"red\",\"blue\",\"blue\",\"red\",\"blue\",\"blue\",\"blue\",\"red\",\"red\",\"red\",\"blue\",\"red\",\"red\",\"red\",\"blue\",\"blue\",\"red\",\"blue\",\"blue\",\"blue\",\"blue\",\"blue\",\"blue\",\"blue\",\"blue\",\"blue\",\"red\",\"blue\",\"red\",\"red\",\"blue\",\"blue\",\"red\",\"red\",\"blue\",\"blue\",\"blue\",\"red\"],\"x\":{\"__ndarray__\":\"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\",\"dtype\":\"float64\",\"order\":\"little\",\"shape\":[1280]},\"y\":{\"__ndarray__\":\"/u6WEg+aKcDpKtOUO+rtP8p586+bcCXAwLRMAOmMEcDzeuSSSFciwNC2QLJMrOU/SH+qSN8YDcCSjRoPrfgRwNrNbIRiLzfAKaPnA3nDBUAeVyufa9UuQPaPvzTU3SDA5T5acRnBHECiyRpKZH4ewI8BQz9yVifAwbFSS3esH8Dgta6Tb8otwF688zH5oCHAv94nREJFK8C/KvaQWLkIwBTb11WulSZAQRicfpZh+b9pgEoeyUgSwER6qdqvzTBA2pC5pKdfGkCLbM9ds9UyQO3IhlVj9CTAb7NZ9zQKFUBtb9MJPn4HwOPjPKmCiyZAnX8ALQ7c678duDvIEKgowHdDe2AvqfE/+cpNVH9KOMB6CClEPuC7v2QNw4t3ICTAW2WqvHx5/L/UQ2K0fIozwDIojBr6eBtAH5JrodPWMkDoqCsuIsYcQEKP3ZJw0+I/rgQC1U5NNUDQb7v7AUoWwFUlBdsi6htAtcbjHfWeIEB2vD34XETnPwOKhlxZFRPAZ4KmSejc0j/EDF4wlwgnwDyV8sqDygpAMlZezLcFAsDajrL8AU8XwBgRImGuiA1AH0YM83J5+z8Ye434LWXuv4j8rCW08hPA4EImbEUjFkAKKIrNgkEDwIlFzvUZ0wjAzvpTPQWJor+zyDRPe7ouQL+6hFqReznAauIHYIMvA0CuRLBtb/TzvwZuCduimAPA/0AJBjB9IcBhgBY2NDnov9oJbvFp3AjANu7ToKZCIUCPgDCCDawtwD8kAAEqhyjAzeVZu+U3IcApwefIcBI+QC9YC+MKQTnA5Eaj5HM0AkChw8Vyu5AWQAYtQpfKXkVAankeX4y2EcD1e6c1CMowwLV2SBTJlxpAT8+iQLAwLsBzwFhUoK0dQOr9gkeCCSDAHh3nIDGUOEAkmhopUcAvwLdu4nK98A/Aa1fxugoHHsCxyNpaszY1QGo/SQ4IMwfA80sXSm4nz79vwvYDNVUtwHoIKUQ+4Lu/LJFPJ8338b8/HurrO8AkwIu18SLrERnAwmv8pI3CNECoI0h9QEfmPwHHvXcR6h7Ae6CpxhRoIcCfzzS43N4KwDoJi4/9WSnA4ynvwh6JE0B6Xm+MB8H5PxBh6Z7/zPg/expNT2rmIEC9gGR+tO4dwNrdoBmsHSdAT9DcmJ27AcCu0JWau5QgwDjCYnk62i1A9PfpJ/6ZGMAyJpnLw9wdQG5yyot46jvAn+xM0LnbKUAmFLfTWlYIQBmTit2WxAlAIyopYexdOEBtl6aIN9VBQOsyKzxlVBdANv7/tmbw+j9QYKoeDdcywKXL4gtYKxZAFaflIN/pNECrYsMFHFkLwOe6GtvuZh5AMfWVOGL6JsBghaJ5txEuQAzvjo90miFA6J2tXr4vFUAJOt9XWiEVwA0IQLi+cCLAcwiXG9dxI0DJfukiaTEWQKPc+9j+yx7A3ijkM9CQFMAxbIUBX+gVwNQAHrFD+0FA0MaR1kKJMEBcOIjzoA0WQKWJZmIxy/y/C0xGkWrLOMCZNEeKFRE0QEIlrMYcQCJAdj1aJBDQJkBsNRG+b9MMQMaeqzR+sCrACZR/uAMPJECwbPdBn486QHUeESyWZRFAV6q8lYpmMEAHjeJXgHklwGqH8Hb+OBBARE6+BCK5RUArcPBTtZ/9v68J3lodODbA+gv+yMfKG8BiL3jHscYmwNxeKDf8HT1AqVEMi53Y67/ygqsI3tkgQFBOx3oVJSRAEO3CdU2iK8AjgRD3z6QpQGHNt4v86wZAAYF7k7vnMMB6CClEPuC7v2e5xyhcPxlABbeNrAhdSUBqMCSCRqbpvwnIS7XjRzxAp1676e7LDsC/7joLSRsdwHoIKUQ+4Lu/g/I+s5idLsANyF/JXr8ywFSpX71bBCRAbKy3zV4RCMB1ILqk/lX7v2ccUMCvMe2/35W83506+b/QOmj+ec0jQHLrqyx7vyJAVDfsA9UGGEC8bGMPOwYMQDo7gX82YgRAiNs5cOKpS0DNr8K1zh0ywPdzX7n/4BNA5t01fkDmIcD9fgDdguE7QNRtHgYNeilAVo9eD4HcEcD5ryluI2okwAH9YOcDz0JAze52+YtIM8Ac05/+QvY6wNVByNY2hjlARAeV4gaA5b96CClEPuC7v1bN5SJ0YPI/040BFQW6LMAOxNOIXjkMwGjrJWvN6BXAEsJf70DGK0CE5x84Bng1QFomWfx58ca/KEZAHFzuLMAUy/vDqhMUwOFHFiP22ydA50V4IQRQIcB6CClEPuC7v2pllIY8LD9ALdCkKi3qK0CTAcMlP+Xxv8cABXdYnzJAb2fzdMfSEMAllTbncADov/T5SSwuIDHA2jI68XkhKsDLlFlpDL0zQGq3CdanQypA4k0VyxSuvz9LgOzHNP8hwNNS+uma0zBAP6z6zT1gFMB7WwVxme4XQLbzHrOPxEpAN34atUAKK0Dujp9xySIvwFjxrHwcfDLAhs7OJKz9MMDaHi3naDAzwEx5tDiqDPS/onMzzCVQHsAjFQVcZuXRvwZHnYFvWCrATAzA0nXS4D/3M5kc6TvbPyUh8XkyPPY/feXRZfQcKkDTGrkWby4xQN43Ar7K6ve/4+OTSDeRDMB+LAqGLVSQP4+Y4XAkaSpAIrsaHmBSJECdfwAtDtzrvyWVunGdsTPAPbTUpElfEEB7x+cjdeMywCZVGHTfGivAH3a/ArSEGUDDgpDaOc4mQBYOBUgFHiRAz2e2XNS2MECnhMfn7uAkwL6IuzNmMAvAMTgsaE7pKMD8B5lceFJHwCne0pR0VzhABlEvA3jzGMDKgJgmWKMwwAqdDcrGkyLAKHJhiEvPG0DLJl6Zs78tQPODDw9WVjvAilfwXJvyMkAAEiUQrjYDwD+G8zVegP6/k+8x0WVCIcDcOWv1sOszwKmMISVnLtq/6tFjACopAMA5LUkcWYMSwBauUug5NRhA/r+ovCloIMBRwIRQodQEwDpQ7OqxJjlASgzJVLB5M8Ax9+1jpOYmwMflRYpSywxACEZI0qC7HECXpuNxioIkQC5F9phT8CnAig5VDZKMIUA0EuJiqk8kwEIVSB+O1b+/ju1B7CPQLEA8MEVFlgAuQGBdMjCZHiVA4NujmY3VFsAyqQmn4uYJwJHm04FU5ydAv4QKSJtKJMDxjGxjs541QDLdotVtQ0pA/7Nz1szNLUBqF9I10GExQP3qVjESwSbA4ipTDPtJGMBbFi+8roUQQJqt8Vn4ACjAcerMHpAm1b+x6Y6JA0QkQGtWbhiowCxA8hMUCJdwEcBqiM0rrO04QD+QJ4KQaCvAG4zItjt3IcDSFYeuimEJwEEB9Wh2EwHAc4QkL+mdHMBAAG9lX2YVQMdgbrFnpuO/4tLuZyQ5+783D+SEUhcHQHLJznigcRpAtuGnjC3OFMBPZpJcDi0hwAY3cuGcohTA8gi1nGClB0DZDDWfK4ojQBM2R/3BAN8/eggpRD7gu7+XtLTcdlgGQMLxqM5zqCzA5cH7gcn1FMDgkT9vNlEVwPHuDLmxRgrA5vcKF2jqJ8AZWVvizqwwQHTpYwfatxzAmBO169flGkAoC3ORDykOwK2FUKP2dhbAvtVSKmIDH8CqS7B1Df0ZwNsTZISfvv8/xo2XSVMM+b/cgey/UEMCQA6oqds1QwJASjDIpU4PKMDwka7BvzE+QIiuMqsISyLAP5DyVCkN6b8EG5RDvWgJQEXZTRrEZT5AFjJBc62aIkB8bs5SAIEuwKYWBm38IhRAiyAeMPhNFkCktFq9CFwewIpd2S5KuxNA+holHK2eIsAaoJlWX801QJUlYBtpLhNA5JNh0LF5CMCTaB7Pq/YMQPZytMe/9hLAuilTWAr2KcDed9gAH/f9vyRTC1u7Ofa/Ccz9VJZIJ0D2bv9f7xYGwGUcPOFwaxLAMV7S3I70EsB6CClEPuC7vwN9JqQyHRdAshXYAFMKGsAT1B2mDZArQJCp7EDanvW/6KkBTWRn/r8qL0CV5hkwQOo1zFdsx/A/KlE/Yte2+r9Gh1EJ9tY3QHoIKUQ+4Lu/xtjxQrG7MMC2gXBBeaMpQEUz98DsICTA6Og60LueFECwgXkw49feP2n5apRPQeG///j+oWH2EsArgsbEQ2QWQMyDmFThPSfAAsylj95oNsAdgJDtEeUiQFkDh2H+OhTAzKvMffdfGcDQt/ELljpAwP8994ei1RnAT1eYHKcYJECrcwIIXVE2QAvEkTQ1iPI/MlCt+hjhE0A2qm8TOSoPwD3QGgh9ic+/WAZt4sBMHMCZffC0H2cnQB3j6FxTMyhAJAtub4fvKUCEvyHxfKtJQKauhOk+zwDAYacKV/VRIsDX9/vs2McpQH4DWiJxGwvAzeEYehdy878pyIXvFGcIQHoIKUQ+4Lu/EvGWbLF9JkANDsuyKN4kwM4bLVfz9RRAefPFqC+7KUCVSW29ytQDwOdskguW3jBAC4wHa/DRK8CXRswfymkBQBubWb0J3ydAsN/sxF3WNMCt9oWY51kDQBoI8gXz8h5ArDh2GYiLKMAxwOioygERQEfdEGxwnNc//88rK5P3KEDeDVS6+NQYQDoy0OpbsTdAOPzPrDwlM8CV3Idx5hTiP28NJeJ6uRTAKtyEm7mwA0DiNBy5euAkQDY+OWsKtSVA13ErdA6eN8DrDJUln8AqQIRIXWjhqSHAr39lBixAEMBHxsvaa1wnQEfEqWJwg0DAHK1A6H4p/j+og/e8c7QPQD5cAUpT2CDAvWh7m4+9LsB6vitjvIgLwIT8FXXyJC3A4K8C0oIwAsCSt1mAsI8MQJEmJccxtiHACkWvQ2t+FEBkKBP7iQEkQJ16p924/Q5AIdyX5vSIMMBr6vgHv40VwGhrGbrBexRAaCJYMtEaJsAROsYAjOb6Px1VmzvbtTLA8yLwVJD+2L8NvnaS7GtAQP0hmshsHT5A9f6ak+pXJEBEDvGwAZ09QALp0c55IBPAtrVz7h34F8Cn6gQntUdKQHY4QpzBBDDA/zKqLXVTKcCXdPIo7j8LwGtibyYJjUJAJ+plzfxGJkAtmBDVSDENwLTO+Ioy3CDAT6kePL2mJEDrX1pqDv8ywLQQna6qgjbAKbI8pwX4McCU1XL7zg3hv9lUmcVZ1hXAbDlfIpOTHcARHBRLy04wQEONMHX3CSjAght5k4oM+r94FPCAKiY1QNCwW659PwDAWXZpsAT2B8Av4zOZD+rvv9tHd4ql5uq/VvBTRE4QF0Bbk08jzKouwJ1/AC0O3Ou/whcXFv6HIsA+BvuAWogGQLcQFW8TBkZAFqcJQ5mX+L/w86aJL1AXQJx7AWw/EgtASp2lyANCKMBbVnXYX+4JwKvuxiMCBxrAN0aCjIlyFUBnewnb50gaQOJidJ0V6iJAHRyZ8wNYwD9lJ+cAhTQkwCT7C1aaegDAg79XqQfZ0r+bcVMavdguwABPx8veXQbAfH5ff3QNK0D8NLJupTojwN0RmmUO+RJAg94tmkFdM8BnQy+czAstQLrRyBoRWgrAand6zuK4IkAYbyIsT4EoQP8DkUd8nr2/lPOKcYS9HcDrZ7CcYWQtwGVJQgqq1hDAUIGr2KPPHcCpeuYvD0cnwNW/jWVXZhFAlmea6jT3LkCwyTF9l7IAwHFuSQomYS7ADQZ2OxiRG0D8DE+S6XXjP8D0h9vrjfq/1l8YYu10I8B8VtSjKpxDQMzTUSfEe64/rFSmgjF2JUC/zzUsD+MxwFWDo5xFpifAF55v1064BcBHQCcTUQUgwMU6W4/wMjhA3PZIIYNaDcC4tKbbhs/8vyV9sKVKahdAiPUTP9brHECOuKFU/ibwv7DUfZv6MRdAB4oQtnaVJsBzcHoBeAAdQCjC1cKfTxbAPi+QS4g5IsAlPVWBIM45QILPs6XF4SvA/zVpUGx1+r9HVzLjviwoQLz2n10DRivAL3PLhVT/GUCIQUP3xr4qwIIoyzgRnzLAXUQtk3KDBsDwpSqKv3QyQAO/R3RzPyPADnj4bm1AJ8Cmzh+PC0cMQCfLzJ6COBFA6UnOE4Y8AEAM/TAe4R0xwHoIKUQ+4Lu/raFgsFMp9797P1b8VPAiQPAn3SedzPc/BSn5a4NpI8AfKdgb/NAzQPiRzHlRG1BAWQVVznB/JsC5Pxo/ZuMmwJ/TRKV2dBPAlnHtLz+4NcAnmFGzy5QYwMuhFpsNlv2/sojdMSM9HMDN6NF/apUawPYq0yPjIDDAiX56kzwPPkC4UIfGtG4BQLpoZTx0AtG/HswO2VGmH0D5fYWcMWowwPOFPmEpCS7AK53L6FAdDsCoJb10QnAvQEAsbQN4RjtAmzUP2Tw6E0DARrnf7l8ZQK35ny5bphvA6bO4Ky3YBsCZUOyeKgIVwFEGk75OChXAgdJhDlvbE0ARQvyJ/GUsQGP8QdR5YCJAfqwOGnTSF0CSsTRIwfENQBeeb9dOuAXAsRgXQTVPLcBt4GncE4UvwISeNeay8gbATY77gqglHsD0sGHFVU4NwECaeWWxUBvAjGQF8W6ADMD0sGHFVU4NwBL9HeHmyy3A4NEZn7q3C0AgWogiubj/v52o7ERN+BXAmgaAYiBWG0AvbO8HfiYGQHoIKUQ+4Lu/JB8ELhxxIsBkx/mzFbomwIs24wX9cCJAe+XqZNho3z9/GY5Hmgz2v6MmVITN8CNAHh+YxL6F5L/dvB2JWmUtwJgHrkieqx3AP17BvwBMIkBPcRPrqUPyv2zAUK4z6iXASm+Rmn28EkB6H3L1DkUhQL3NQ/Go0+Y/xr0/LhptMcDHkDRLW0YjQCcR+p9ccCrAy6Pz4XiSOMCEGdUD8sUXwHGz3dCCKg5AU2p7glkrHUAbbtZn9G0awDyf9IKTVxzAb9m32qOQIMD5E52kMPLev4du3kppnyPATlo9FADUM0BB/Q+AVY4jwCsBkrW60zZAfYO7XBDYB0Ds6mLm1UxEwBSNGUKtLgvAo8hwd0gHN0DdC6o8lUTMvyqZS0t/UDnARz2smli20789fME12JowQA/9Gb50fStAevxIJyWiJMBVt3nNWcQWwPdVhsxJxQnADk8xs8oFMMBqPHaWW9sTQOfKH6wB/hPAFxl8bbGvIkCC3/g7w5EQwLiyWeDoZjFAX/6pesGIE8D4WfFTK3EfwNl8XhcNjTNAW7fxv3LCDkDMyTGjm+M9wDYSnq95VhDApXrxra5q+L9uAsl1I9wzwMwcBgAL6/S/DA5LrzC2FcDq9W2Ikk0UwGaKX8ailYe/YRwSrHXKIkB8iRJ+XhwkwNgrKaekQhxAxm+oGGIhOkAcqrcKs9YxwC4mBiCx3CnAMuUB9eovBcCF1Q+bjasTwDe75dvDLzLA3ecc+h8OFkDi3MunR7wawH/684TGxCfATjYLIZR9FkAQqznWkHnmv3oIKUQ+4Lu/0r2mtZpAE0B+RdO1H/YdQCRl4BZ+Sh3AcyjszYQm9L/PPwBcrw/Dv3I77no/TSnAPcTcJYNQKMDBmuDtRogdwLxJANzQuQdAQZ9buQ+tLcDCdZWi4d0YwHoIKUQ+4Lu/CG6ryw+SJUAfzQ67A/kEQOKIT7teg82/6ssHZzA8OEDVI58lRZwaQDu7DpdB6y9AaLOfY9MuDUBF0ZqKsBcxwJZ9U7Wz0iTACQupU3sQ8z858sSLiDs1QMKGn/AQYCzA7VrMnjkZ878ZIsj0jQkawKYWESoH7wNA64acE4lVGMCuUafapgkrQH2OBS9qEgDAI/1KznA7JUCgGIEpsMsVwJQYAUJU6xHAeggpRD7gu7/bYUtt8fENwHoIKUQ+4Lu/5jt3ilgRCsCdB3n4gK0pQA6BKHNJjwXAekeKvEXTK8CXs/KcFElAwJ8NtoBCoEjAO6XLrf6OBkBUeit5ZZMxwFO9/PHD1zTAI8oyD45rAEBSXwJMhVsgwDgMLuwq0CfA1DEpoI5rKEBDvraKMRI1QEg9pRGXwxLA+Cs2nf7yFEB+GL38RHQJwJJI8T5/CfK/9jHNH+LTDUB6CClEPuC7v/g/UOkZZCLA2Rh+QYulGUAP0cnZFaYawE6YlFi7uTDAA1mN4MVoQEDxpER/DBRDQD0IFw+yEeg/QfD3zxQXP0BAcpcz+q0bwEI7Q5WRMSXAs3Uhz17oC8CRknB7VJwTwPO933u+5w7AYIcQYHYBLcD1JyNHS4Pmv2PAE/r1BBtAWZny+g2wIcCFhos7Ieg2QLX4+XDHY/4/kYPLuaFI678Oyx+TX98AwHKfQUmandU/GH3MhOVzBkAy34YDOTExwD9Aq5jT2BHAxt17YBNoFMD8FmCDEekzwCAsS/63TC1ARcbV/Inp+T/6rcvJ3y4SwL3ljYK4zSnASJHK+XF+oL+BgNrKmYo4QGpZWWkY/SBAoO9YUlTE778Sa6X149wiwPeLa/PdCiPA3ssVlHFnMUBpNqQQZ+oawOSKXB20+ipAyy0gUov33b9LLnnJFncTQFvrgHeNphtAk/tkAJcPGEBIaruA5Q3Yv+eSg1RHrjVAN1HmeotPIMDCzscKxPsxQPNT/XPvCjZA6G0D9kgbkj9pwd6vu3ECwMUPMs4HFjlA/LumGBpl7T+tWh5mvFUqwGgi1JQlbytARs1gW5QqF8DJEUMyJpIXQAOZZh+a1fy/eArh75WVEEBzRAjCFOUdwNTOpd6JvyzA585Cwk3eQECklOa6mi85wBDeil4zyydAslzEH/nGE0BRBpO+TgoVwIpGnv1EpSxA7S09uRYKF0B5bbYvCz4SwPvNzVJ9py/A7sS4a9ukB8B6CClEPuC7v9wB9YkC6ydA+Xi+pkDqIsD3rB0dWGkawD5M2JWr8jFA5RXxhGuAJcB7gP28QiMmQGVyAhMBlTHAskE1zzELJsCFUQjVlMoYQDxBM4mrZhpAy3rKOe2VIsDC3cErWtoPQDbc61Ml2yrAM4uT9Hxoo7/sBCK1TnMZwNxU5BrG7APA0Grj8c5GF8CBH1B8kmcfQNDVfFwvrQNAq/Qv36aqKkB+jEdy3QwrwNApLWonZydA8eIS5F87D0BwwGcAos0+wNSGaUfpHAvAvhyQgKNDKMBAkQUJGMUowFYp/awF8RTAfOP7B0MhIcAwVoeoQsEjwG/R6hjqZRDA5TYWHUizMECX7CMpv1ImwNAwzr2rpCZAIJ8uK5QFIkB6w2BPudksQAqHGuggUy1A7USocVLeHEClCytcEvMiQEQOlcuynBXAOjADPYtZNMDnur9lnT0GQKveRTaKLw3AP1Vpe48TAEDNymLwuFkzwIlczJpPViHAlmchyRyg5j/hL9oZ3/omwNbVq+ToiiDAqfyssn8wM0BunfqeVl8RwDD7QeDrPwRAoFdopdVZKMBYgAmXJREVQPqtQFodOCRAzRGj8hMrJkD954zN6rMWwEEB9Wh2EwHAFMuTic92/D8hlfONBgUOwK2N1rVFkCdAFDh8LBxTIUBOR+yYc/cdwB4V5qHz1DXAIXO5/VE6PsA9pBttXYgMwPw3X4N+9yTAytzGo+2TN0DhG3ytte0zQPvM6KNfPAjAFzuYi2cbMcC77zaDP2MiwAg9gXsnJ/a/2iy1muIfHsCoOcJKnCYSwLcMQITQJibAgwMfC09pE0DgSt2UHYMDQJylVQQ63oO/xlkuMPPzKUB0LiUk8c8ZwP0cqtES9QBAkcEN0BrXBkB6CClEPuC7v8DkPdlYoRnAim/5ObqtJsDw4MBNS3fmv2utdPReWx3Auxg+D52zEMCKaUkDGAstwJx2rwnyNyPAJjj/ZJfhKkBDFJM3o4ItwMNGeNAYITBAodyz9ZDoIcA/dXw0RVADwMo0M3d7BBrAmNyS5CSXEsD8eCODf8T+v96qoZaLOiFAsXeK+w/GJUBPPWZvxHYdwKxJGntIbCfADRgJguhGOkCNwFm5a9YrwAvFmcBgCC5AQhi11kLyNUDBflKMgFbwvy+aGWCA4DFApzP6eo9pDsALfPafYxIqQJ1/AC0O3Ou/Q1a/Si+8LcAd4e3id98FQLGxEQQXyCDAPyrtx1OCIcDwxGTznPQawBw7obhOgh1AfEM/LJcOKcDorNblI1bMvyPCI5z1CwFAeggpRD7gu79q4gSsRl0TwBrgOrvuQTvAMp2628rL/r9GNJ2VYe0DwGKdrg0CbQ1ArD8sLLG6FkBs3jx3ERgtwMkf5erLtRzAkDmRh7iq5D/3MMTRgmENwHOT/aMXzgzAPLnR7I2FQEARpq6Rhjk3QJlUbzgLKvA/YGXwDJB2CUDEyxVpDEA2wN6PZNLkTRPAQeHURzP6EkBrp30qX6UcwOzz9Rt9HjZAcce/m01/IUDS+JmTaoYvQO5tJlVNEyDAZcgow4R7JsASupUDUbMnQArQuYklhxzAiKViB22sFcCFqrBjQAolwGIveMexxibA1p0ZfeO7QEArQW9rc7ECwKwtMoeW/fa/W0PNnGA5HMBWmZEtMqMgQN09El8IZRfAVb4ZAtsNNsDklrEfnsApwBhv9FqcaijAIcO7NyzvwL/ETvGbj5orwMb7mGBEA0DAS3qkfd4PNsBuOFBDThMGQO/qoxEHsd+/OlDUXsIF779cAlXaeSopwHoIKUQ+4Lu/xdALafH/BsCgJdUX6GIFwKpm4kTByCFAP0T1fm1kIEAiqNL1K8UpwMwWZelighLA/Hyxiz0pFEA7GV6MBV84QDgL1yOuJxTAKON3qbEkGUD3SSL9jPUXwIoO5v4rSwZABhc3GCy/A8D1zaIwPIIVwNwFNGp2NDjAKe17JKlfIEAlPlS9rbUUwOQ4s66OvhdAEZO3BKzlJUD5SNu4AgMdQPla5zbxaRnAmCWG9sN9G0Cc2moV2+EywIN3ShmrVh3AS+TbMwZnK8BzUapm5fURwLdi0o7JxvO/t76tOkm4QUCwAsL67eMxwJVjR1EJehdAvEyYX552GcAPWSO/GL0RwO+JvFny+gnAQ0DafVVVGUDXXcp43rIfwEeVg2fbQ9G/d8nQJ41pDcBlHrhMhf8BwN6lkLcuUB3AXhdHmvWXBsAQLZ88b53YP6oKWYPV4yZAarUNXXZ4F8CQKdcg8G8lwAcpNaZTTgfAZgPDi+Ek/L9ggzuBtyQoQLRRYfY8kg5AoqDnxB6HNkCZGabVE04mQEdtGjG6XBVAqdBdRu/bMsBIQMfWuh8bQKNjiKNoiilAYwz0zrlqFUBXqhTjEBj2v4lbCbc9kQlAUeSZYqM0EkA7rTK+alMVQNdc0Hcc8BhAEliI4x/oD8AW2h1MAGsDwKlZFhu26zhAdOTeCDN4AkBvHpcdUowxwHthjT6CUyLAFBjOKdE/I8B9sbwdOosRwMKCeR1oHhZAp+OgO3akMUDx/dgB7w4awG4LFHtJVRFAHv/xPmiLMcAB8oS2BB0wwLUWNpJzXDdAtrIr5VgrNcA+jQv7E0EdQKaKslNFchHAMJUCivkyOcB6CClEPuC7vy9WW6cKpSnA5VWJhJiUGsBuweoZjv8NwKhPTSfBKS5AEx1HmZP+GMBPlC5ml9EjQI2eNd9oyiPAACfGRitIAEAAT1TDLkgmwPcb7S5DfSrADl+ebt3MD8ALEpNbSvEdQKu002XkASvAnPIn+IrtAUDkL9Kldo03QOl1MVx71gBAgapv6+DsKkDIoGmp1MYLwEZr64kdAxvAB1dfCCqrIUDnDwa/cz0awCWAyWbxEzBAlKQYXHkEMMDAvC/GZBAvQNrnjO/7wDFAuf0VCshvKMBoLmMy7MAkwO0gqTj//yPAan6/kUPjGMCi/oy1DKonQHpSZuRKWRdAj7Ws0VTVFMC4Txjr3Y/0P7efaYRngy7A3PZIIYNaDcCK0Q8GAHa9v09FpR5Jbh7AYagNh1AYKUBGd8yOkFwzQBX75iDsoR7AjnHX33uMGkArQ/InOVoYQEPaX9mN5jVAAv+g2gAoLEDpbnZyejkAwPly6ASoUhDA/Ni+LqRRHcBLtgVFL4kzQKGwb+7CqSZA9rZCPH96BsDeNc7kTKsbwCkPaXFBkDNA61zQT0lgHsDi79wo5K7rv3tAjS85RyDANqRm9xiAGsCLT2y83fo0QN52G4wD+SzAhndU0kgPK8B/bMMoKEUEwOdwpLi4ySJANBm6+kQTH0AerwMyHyS4P69SY3/OtxFARvzYzRucIcCR4hazURsPQAORGlp5Fx3AG4uY66TF/T+vUyjqWN8FQL6Es/nZHR1Afu001ZB8+z8Y2bLjChcGQFvEsFBncDTAyDh30+YL5D8uvJr0qmAfQLCoa4RHgSNAssd3aIIJLEAESmKoY2gjwFyHPNQsLPi/xqE6THCoFsDYfsvrtlkuQAqPDecjcjRAH8RlDuXbEsC99EOmwBwJwFai1titTyFAUcE8o9qBL0DpXPfkDuIrQGTR7u1dqgDAnxiLYWgCM8ArBOxdggodwFoKIMNc6xTApzP6eo9pDsBvt38wCIIFwLNpWalZey7ARNdaAZBlHEBGtWONpxklQLCiSeTIqwvAvUJ/aWGSFMAVnhvOW1wfQFx8p5LtJzDAXwRQ8MnGKsC2yH7spGEewLwDfLK2ThzAuwQbcXNIJUBclWhY2SrUP5kkbW2pUx/A8IYEY3czI0B6CClEPuC7v7Z9PTtZUD3AsnQuN1F3KcCKZ3A+KQ8bQK8jSS3LhhxAFGL8BfrwFECll3JUviIFQNP6gqNBJAfA7/igmdmoIEB0snpEcZo0wFPdKyKNZZ8/t7Im8hAuBcDDjusYug8twF+Nn86OlxfAXdNAoltOL0DPh0Gdt+jlPxW/vOsk7uq/WK161oJaDsA4rUs9XpgiwHU1JAC5xDlAIaX7CADWL8Cr9vQtakEXQH6mMVZ7UghAVBk7r/QOGkAOUSqCX8giQFLw5mp8SDDAJnDmaQ4sHMBr5FJnsjolwMMXfo2sAybAOoat1vFfNEBHbM0NB5opwFywJv+uyjRAw0RgqXK8EMAh5uunAtAfQFwBtgjsZPk/+YBsDa9FCcBntqmJsAwlwC0f6B0G4DtAz0mNrepyIcC6cwACoZQGwI64oFDJWC3AvyGW5z2zIkAJY+mDDMYiwCvOJTzIKkFA5UVEWQYrKMCEV3rQZknjv4EVr6QTQxTAiYZ3fWGUFkBXw78wc741wF5/Y97Hih5AlKdxWvGX7b/MrDULUf8SQIbV7bYrdwDAOAmQnI6t/r8/Prfq/4cdwK7pibZhBhNAjUNq6hfp/r/2n4zqDlUYwJxAwVZ9tSrAoW7edWztIEAOFawZdt02wCN72sATo0DAi042gd1dKkB9CdrGCvHvP8P+duoXuhnA8MrGQ+01D8AqcDaKEpMYwH9JPuTd4jZATEFDgYRvOkDS6lDwCycSQH33vBkLjDxAr9b4lEPPIMA5VpsG/uMiQNbM3PcFYDLAoJq/0CRvKEAMAq0/Wz0TwBA4F0ZEvhpAF9JBdI2xJMDQ0l2uujw5wLu+pN87PyvA4QglCi4m+L/WFUz68dctQFV4SQ9qfSRAcJd8dk5/K0CBVqTdpE4OwB87IyCHnBlAY5dHT9rfM8D7lZHXHr/5v6VzK3tZvhlAStuETU0JBMAR4U6qbKUWwLrJHCAcaQBAPJdNQHKVMsD+s8s0Oas2QIQJ39VPGBDAmkc3JeoCD0Da3EufUx++v33mX8TyOSHAeggpRD7gu79kyxBDn9MWwGwm02qsmzBA+nzPKv5rDcCd95TSntYwwA==\",\"dtype\":\"float64\",\"order\":\"little\",\"shape\":[1280]}},\"selected\":{\"id\":\"1052\"},\"selection_policy\":{\"id\":\"1051\"}},\"id\":\"1003\",\"type\":\"ColumnDataSource\"},{\"attributes\":{\"fill_alpha\":{\"value\":0.25},\"fill_color\":{\"field\":\"color\"},\"hatch_alpha\":{\"value\":0.25},\"hatch_color\":{\"field\":\"color\"},\"line_alpha\":{\"value\":0.25},\"line_color\":{\"field\":\"color\"},\"size\":{\"value\":10},\"x\":{\"field\":\"x\"},\"y\":{\"field\":\"y\"}},\"id\":\"1036\",\"type\":\"Scatter\"},{\"attributes\":{\"coordinates\":null,\"group\":null},\"id\":\"1043\",\"type\":\"Title\"},{\"attributes\":{},\"id\":\"1026\",\"type\":\"HelpTool\"},{\"attributes\":{\"callback\":null,\"tooltips\":[]},\"id\":\"1041\",\"type\":\"HoverTool\"},{\"attributes\":{},\"id\":\"1046\",\"type\":\"BasicTickFormatter\"},{\"attributes\":{},\"id\":\"1018\",\"type\":\"BasicTicker\"},{\"attributes\":{\"coordinates\":null,\"data_source\":{\"id\":\"1003\"},\"glyph\":{\"id\":\"1036\"},\"group\":null,\"hover_glyph\":null,\"muted_glyph\":{\"id\":\"1038\"},\"nonselection_glyph\":{\"id\":\"1037\"},\"view\":{\"id\":\"1040\"}},\"id\":\"1039\",\"type\":\"GlyphRenderer\"},{\"attributes\":{\"axis\":{\"id\":\"1017\"},\"coordinates\":null,\"dimension\":1,\"group\":null,\"ticker\":null},\"id\":\"1020\",\"type\":\"Grid\"}],\"root_ids\":[\"1004\"]},\"title\":\"Bokeh Application\",\"version\":\"2.4.3\"}};\n",
       "  const render_items = [{\"docid\":\"24ae7e80-7a5b-4923-b7b4-38f5996d538f\",\"root_ids\":[\"1004\"],\"roots\":{\"1004\":\"a9a4d8e0-af81-432c-adae-9c1791769040\"}}];\n",
       "  root.Bokeh.embed.embed_items_notebook(docs_json, render_items);\n",
       "  }\n",
       "  if (root.Bokeh !== undefined) {\n",
       "    embed_document(root);\n",
       "  } else {\n",
       "    let attempts = 0;\n",
       "    const timer = setInterval(function(root) {\n",
       "      if (root.Bokeh !== undefined) {\n",
       "        clearInterval(timer);\n",
       "        embed_document(root);\n",
       "      } else {\n",
       "        attempts++;\n",
       "        if (attempts > 100) {\n",
       "          clearInterval(timer);\n",
       "          console.log(\"Bokeh: ERROR: Unable to run BokehJS code because BokehJS library is missing\");\n",
       "        }\n",
       "      }\n",
       "    }, 10, root)\n",
       "  }\n",
       "})(window);"
      ],
      "application/vnd.bokehjs_exec.v0+json": ""
     },
     "metadata": {
      "application/vnd.bokehjs_exec.v0+json": {
       "id": "1004"
      }
     },
     "output_type": "display_data"
    },
    {
     "data": {
      "text/html": [
       "<div style=\"display: table;\"><div style=\"display: table-row;\"><div style=\"display: table-cell;\"><b title=\"bokeh.plotting.figure.Figure\">Figure</b>(</div><div style=\"display: table-cell;\">id&nbsp;=&nbsp;'1004', <span id=\"1110\" style=\"cursor: pointer;\">&hellip;)</span></div></div><div class=\"1109\" style=\"display: none;\"><div style=\"display: table-cell;\"></div><div style=\"display: table-cell;\">above&nbsp;=&nbsp;[],</div></div><div class=\"1109\" style=\"display: none;\"><div style=\"display: table-cell;\"></div><div style=\"display: table-cell;\">align&nbsp;=&nbsp;'start',</div></div><div class=\"1109\" style=\"display: none;\"><div style=\"display: table-cell;\"></div><div style=\"display: table-cell;\">aspect_ratio&nbsp;=&nbsp;None,</div></div><div class=\"1109\" style=\"display: none;\"><div style=\"display: table-cell;\"></div><div style=\"display: table-cell;\">aspect_scale&nbsp;=&nbsp;1,</div></div><div class=\"1109\" style=\"display: none;\"><div style=\"display: table-cell;\"></div><div style=\"display: table-cell;\">background&nbsp;=&nbsp;None,</div></div><div class=\"1109\" style=\"display: none;\"><div style=\"display: table-cell;\"></div><div style=\"display: table-cell;\">background_fill_alpha&nbsp;=&nbsp;1.0,</div></div><div class=\"1109\" style=\"display: none;\"><div style=\"display: table-cell;\"></div><div style=\"display: table-cell;\">background_fill_color&nbsp;=&nbsp;'#ffffff',</div></div><div class=\"1109\" style=\"display: none;\"><div style=\"display: table-cell;\"></div><div style=\"display: table-cell;\">below&nbsp;=&nbsp;[LinearAxis(id='1013', ...)],</div></div><div class=\"1109\" style=\"display: none;\"><div style=\"display: table-cell;\"></div><div style=\"display: table-cell;\">border_fill_alpha&nbsp;=&nbsp;1.0,</div></div><div class=\"1109\" style=\"display: none;\"><div style=\"display: table-cell;\"></div><div style=\"display: table-cell;\">border_fill_color&nbsp;=&nbsp;'#ffffff',</div></div><div class=\"1109\" style=\"display: none;\"><div style=\"display: table-cell;\"></div><div style=\"display: table-cell;\">center&nbsp;=&nbsp;[Grid(id='1016', ...), Grid(id='1020', ...)],</div></div><div class=\"1109\" style=\"display: none;\"><div style=\"display: table-cell;\"></div><div style=\"display: table-cell;\">css_classes&nbsp;=&nbsp;[],</div></div><div class=\"1109\" style=\"display: none;\"><div style=\"display: table-cell;\"></div><div style=\"display: table-cell;\">disabled&nbsp;=&nbsp;False,</div></div><div class=\"1109\" style=\"display: none;\"><div style=\"display: table-cell;\"></div><div style=\"display: table-cell;\">extra_x_ranges&nbsp;=&nbsp;{},</div></div><div class=\"1109\" style=\"display: none;\"><div style=\"display: table-cell;\"></div><div style=\"display: table-cell;\">extra_x_scales&nbsp;=&nbsp;{},</div></div><div class=\"1109\" style=\"display: none;\"><div style=\"display: table-cell;\"></div><div style=\"display: table-cell;\">extra_y_ranges&nbsp;=&nbsp;{},</div></div><div class=\"1109\" style=\"display: none;\"><div style=\"display: table-cell;\"></div><div style=\"display: table-cell;\">extra_y_scales&nbsp;=&nbsp;{},</div></div><div class=\"1109\" style=\"display: none;\"><div style=\"display: table-cell;\"></div><div style=\"display: table-cell;\">frame_height&nbsp;=&nbsp;None,</div></div><div class=\"1109\" style=\"display: none;\"><div style=\"display: table-cell;\"></div><div style=\"display: table-cell;\">frame_width&nbsp;=&nbsp;None,</div></div><div class=\"1109\" style=\"display: none;\"><div style=\"display: table-cell;\"></div><div style=\"display: table-cell;\">height&nbsp;=&nbsp;400,</div></div><div class=\"1109\" style=\"display: none;\"><div style=\"display: table-cell;\"></div><div style=\"display: table-cell;\">height_policy&nbsp;=&nbsp;'auto',</div></div><div class=\"1109\" style=\"display: none;\"><div style=\"display: table-cell;\"></div><div style=\"display: table-cell;\">hidpi&nbsp;=&nbsp;True,</div></div><div class=\"1109\" style=\"display: none;\"><div style=\"display: table-cell;\"></div><div style=\"display: table-cell;\">inner_height&nbsp;=&nbsp;0,</div></div><div class=\"1109\" style=\"display: none;\"><div style=\"display: table-cell;\"></div><div style=\"display: table-cell;\">inner_width&nbsp;=&nbsp;0,</div></div><div class=\"1109\" style=\"display: none;\"><div style=\"display: table-cell;\"></div><div style=\"display: table-cell;\">js_event_callbacks&nbsp;=&nbsp;{},</div></div><div class=\"1109\" style=\"display: none;\"><div style=\"display: table-cell;\"></div><div style=\"display: table-cell;\">js_property_callbacks&nbsp;=&nbsp;{},</div></div><div class=\"1109\" style=\"display: none;\"><div style=\"display: table-cell;\"></div><div style=\"display: table-cell;\">left&nbsp;=&nbsp;[LinearAxis(id='1017', ...)],</div></div><div class=\"1109\" style=\"display: none;\"><div style=\"display: table-cell;\"></div><div style=\"display: table-cell;\">lod_factor&nbsp;=&nbsp;10,</div></div><div class=\"1109\" style=\"display: none;\"><div style=\"display: table-cell;\"></div><div style=\"display: table-cell;\">lod_interval&nbsp;=&nbsp;300,</div></div><div class=\"1109\" style=\"display: none;\"><div style=\"display: table-cell;\"></div><div style=\"display: table-cell;\">lod_threshold&nbsp;=&nbsp;2000,</div></div><div class=\"1109\" style=\"display: none;\"><div style=\"display: table-cell;\"></div><div style=\"display: table-cell;\">lod_timeout&nbsp;=&nbsp;500,</div></div><div class=\"1109\" style=\"display: none;\"><div style=\"display: table-cell;\"></div><div style=\"display: table-cell;\">margin&nbsp;=&nbsp;(0, 0, 0, 0),</div></div><div class=\"1109\" style=\"display: none;\"><div style=\"display: table-cell;\"></div><div style=\"display: table-cell;\">match_aspect&nbsp;=&nbsp;False,</div></div><div class=\"1109\" style=\"display: none;\"><div style=\"display: table-cell;\"></div><div style=\"display: table-cell;\">max_height&nbsp;=&nbsp;None,</div></div><div class=\"1109\" style=\"display: none;\"><div style=\"display: table-cell;\"></div><div style=\"display: table-cell;\">max_width&nbsp;=&nbsp;None,</div></div><div class=\"1109\" style=\"display: none;\"><div style=\"display: table-cell;\"></div><div style=\"display: table-cell;\">min_border&nbsp;=&nbsp;5,</div></div><div class=\"1109\" style=\"display: none;\"><div style=\"display: table-cell;\"></div><div style=\"display: table-cell;\">min_border_bottom&nbsp;=&nbsp;None,</div></div><div class=\"1109\" style=\"display: none;\"><div style=\"display: table-cell;\"></div><div style=\"display: table-cell;\">min_border_left&nbsp;=&nbsp;None,</div></div><div class=\"1109\" style=\"display: none;\"><div style=\"display: table-cell;\"></div><div style=\"display: table-cell;\">min_border_right&nbsp;=&nbsp;None,</div></div><div class=\"1109\" style=\"display: none;\"><div style=\"display: table-cell;\"></div><div style=\"display: table-cell;\">min_border_top&nbsp;=&nbsp;None,</div></div><div class=\"1109\" style=\"display: none;\"><div style=\"display: table-cell;\"></div><div style=\"display: table-cell;\">min_height&nbsp;=&nbsp;None,</div></div><div class=\"1109\" style=\"display: none;\"><div style=\"display: table-cell;\"></div><div style=\"display: table-cell;\">min_width&nbsp;=&nbsp;None,</div></div><div class=\"1109\" style=\"display: none;\"><div style=\"display: table-cell;\"></div><div style=\"display: table-cell;\">name&nbsp;=&nbsp;None,</div></div><div class=\"1109\" style=\"display: none;\"><div style=\"display: table-cell;\"></div><div style=\"display: table-cell;\">outer_height&nbsp;=&nbsp;0,</div></div><div class=\"1109\" style=\"display: none;\"><div style=\"display: table-cell;\"></div><div style=\"display: table-cell;\">outer_width&nbsp;=&nbsp;0,</div></div><div class=\"1109\" style=\"display: none;\"><div style=\"display: table-cell;\"></div><div style=\"display: table-cell;\">outline_line_alpha&nbsp;=&nbsp;1.0,</div></div><div class=\"1109\" style=\"display: none;\"><div style=\"display: table-cell;\"></div><div style=\"display: table-cell;\">outline_line_cap&nbsp;=&nbsp;'butt',</div></div><div class=\"1109\" style=\"display: none;\"><div style=\"display: table-cell;\"></div><div style=\"display: table-cell;\">outline_line_color&nbsp;=&nbsp;'#e5e5e5',</div></div><div class=\"1109\" style=\"display: none;\"><div style=\"display: table-cell;\"></div><div style=\"display: table-cell;\">outline_line_dash&nbsp;=&nbsp;[],</div></div><div class=\"1109\" style=\"display: none;\"><div style=\"display: table-cell;\"></div><div style=\"display: table-cell;\">outline_line_dash_offset&nbsp;=&nbsp;0,</div></div><div class=\"1109\" style=\"display: none;\"><div style=\"display: table-cell;\"></div><div style=\"display: table-cell;\">outline_line_join&nbsp;=&nbsp;'bevel',</div></div><div class=\"1109\" style=\"display: none;\"><div style=\"display: table-cell;\"></div><div style=\"display: table-cell;\">outline_line_width&nbsp;=&nbsp;1,</div></div><div class=\"1109\" style=\"display: none;\"><div style=\"display: table-cell;\"></div><div style=\"display: table-cell;\">output_backend&nbsp;=&nbsp;'canvas',</div></div><div class=\"1109\" style=\"display: none;\"><div style=\"display: table-cell;\"></div><div style=\"display: table-cell;\">renderers&nbsp;=&nbsp;[GlyphRenderer(id='1039', ...)],</div></div><div class=\"1109\" style=\"display: none;\"><div style=\"display: table-cell;\"></div><div style=\"display: table-cell;\">reset_policy&nbsp;=&nbsp;'standard',</div></div><div class=\"1109\" style=\"display: none;\"><div style=\"display: table-cell;\"></div><div style=\"display: table-cell;\">right&nbsp;=&nbsp;[],</div></div><div class=\"1109\" style=\"display: none;\"><div style=\"display: table-cell;\"></div><div style=\"display: table-cell;\">sizing_mode&nbsp;=&nbsp;None,</div></div><div class=\"1109\" style=\"display: none;\"><div style=\"display: table-cell;\"></div><div style=\"display: table-cell;\">subscribed_events&nbsp;=&nbsp;[],</div></div><div class=\"1109\" style=\"display: none;\"><div style=\"display: table-cell;\"></div><div style=\"display: table-cell;\">syncable&nbsp;=&nbsp;True,</div></div><div class=\"1109\" style=\"display: none;\"><div style=\"display: table-cell;\"></div><div style=\"display: table-cell;\">tags&nbsp;=&nbsp;[],</div></div><div class=\"1109\" style=\"display: none;\"><div style=\"display: table-cell;\"></div><div style=\"display: table-cell;\">title&nbsp;=&nbsp;Title(id='1043', ...),</div></div><div class=\"1109\" style=\"display: none;\"><div style=\"display: table-cell;\"></div><div style=\"display: table-cell;\">title_location&nbsp;=&nbsp;'above',</div></div><div class=\"1109\" style=\"display: none;\"><div style=\"display: table-cell;\"></div><div style=\"display: table-cell;\">toolbar&nbsp;=&nbsp;Toolbar(id='1028', ...),</div></div><div class=\"1109\" style=\"display: none;\"><div style=\"display: table-cell;\"></div><div style=\"display: table-cell;\">toolbar_location&nbsp;=&nbsp;'right',</div></div><div class=\"1109\" style=\"display: none;\"><div style=\"display: table-cell;\"></div><div style=\"display: table-cell;\">toolbar_sticky&nbsp;=&nbsp;True,</div></div><div class=\"1109\" style=\"display: none;\"><div style=\"display: table-cell;\"></div><div style=\"display: table-cell;\">visible&nbsp;=&nbsp;True,</div></div><div class=\"1109\" style=\"display: none;\"><div style=\"display: table-cell;\"></div><div style=\"display: table-cell;\">width&nbsp;=&nbsp;600,</div></div><div class=\"1109\" style=\"display: none;\"><div style=\"display: table-cell;\"></div><div style=\"display: table-cell;\">width_policy&nbsp;=&nbsp;'auto',</div></div><div class=\"1109\" style=\"display: none;\"><div style=\"display: table-cell;\"></div><div style=\"display: table-cell;\">x_range&nbsp;=&nbsp;DataRange1d(id='1005', ...),</div></div><div class=\"1109\" style=\"display: none;\"><div style=\"display: table-cell;\"></div><div style=\"display: table-cell;\">x_scale&nbsp;=&nbsp;LinearScale(id='1009', ...),</div></div><div class=\"1109\" style=\"display: none;\"><div style=\"display: table-cell;\"></div><div style=\"display: table-cell;\">y_range&nbsp;=&nbsp;DataRange1d(id='1007', ...),</div></div><div class=\"1109\" style=\"display: none;\"><div style=\"display: table-cell;\"></div><div style=\"display: table-cell;\">y_scale&nbsp;=&nbsp;LinearScale(id='1011', ...))</div></div></div>\n",
       "<script>\n",
       "(function() {\n",
       "  let expanded = false;\n",
       "  const ellipsis = document.getElementById(\"1110\");\n",
       "  ellipsis.addEventListener(\"click\", function() {\n",
       "    const rows = document.getElementsByClassName(\"1109\");\n",
       "    for (let i = 0; i < rows.length; i++) {\n",
       "      const el = rows[i];\n",
       "      el.style.display = expanded ? \"none\" : \"table-row\";\n",
       "    }\n",
       "    ellipsis.innerHTML = expanded ? \"&hellip;)\" : \"&lsaquo;&lsaquo;&lsaquo;\";\n",
       "    expanded = !expanded;\n",
       "  });\n",
       "})();\n",
       "</script>\n"
      ],
      "text/plain": [
       "Figure(id='1004', ...)"
      ]
     },
     "execution_count": 20,
     "metadata": {},
     "output_type": "execute_result"
    }
   ],
   "source": [
    "draw_vectors(\n",
    "    examples[\"transformed_features\"][:, 0], \n",
    "    examples[\"transformed_features\"][:, 1], \n",
    "    color=[[\"red\", \"blue\"][t] for t in examples[\"targets\"]]\n",
    "    )"
   ]
  },
  {
   "cell_type": "markdown",
   "metadata": {
    "id": "0fNF6LRQ9MPI"
   },
   "source": [
    "Скорее всего, на визуализации нет четкого разделения твитов между классами. Это значит, что по полученным нами векторам твитов не так-то просто определить, к какому классу твит пренадлежит. Значит, обычный линейный классификатор не очень хорошо справится с задачей. Надо будет делать глубокую (хотя бы два слоя) нейронную сеть.\n",
    "\n",
    "Подготовим загрузчики данных.\n",
    "Усреднее векторов будем делать в \"батчевалке\"(`collate_fn`). Она используется для того, чтобы собирать из данных `torch.Tensor` батчи, которые можно отправлять в модель.\n"
   ]
  },
  {
   "cell_type": "code",
   "execution_count": 21,
   "metadata": {
    "ExecuteTime": {
     "end_time": "2023-01-31T18:52:26.458208Z",
     "start_time": "2023-01-31T18:52:26.413020Z"
    },
    "id": "y1XapsADtITv"
   },
   "outputs": [],
   "source": [
    "from torch.utils.data import DataLoader\n",
    "\n",
    "\n",
    "batch_size = 1024\n",
    "num_workers = 4 if not torch.backends.mps.is_available() else 0\n",
    "\n",
    "def average_emb(batch):\n",
    "    features = np.array([np.mean(b[\"feature\"], axis=0) for b in batch])\n",
    "    targets = np.array([b[\"target\"] for b in batch])\n",
    "\n",
    "    return {\"features\": torch.FloatTensor(features), \"targets\": torch.LongTensor(targets)}\n",
    "\n",
    "\n",
    "train_size = math.ceil(len(dev) * 0.8)\n",
    "\n",
    "train, valid = random_split(dev, [train_size, len(dev) - train_size])\n",
    "\n",
    "train_loader = DataLoader(train, batch_size=batch_size, num_workers=num_workers, shuffle=True, drop_last=True, collate_fn=average_emb)\n",
    "valid_loader = DataLoader(valid, batch_size=batch_size, num_workers=num_workers, shuffle=False, drop_last=False, collate_fn=average_emb)"
   ]
  },
  {
   "cell_type": "markdown",
   "metadata": {
    "id": "p-zs0WEK-Vkt"
   },
   "source": [
    "Определим функции для тренировки и теста модели:"
   ]
  },
  {
   "cell_type": "code",
   "execution_count": 22,
   "metadata": {
    "ExecuteTime": {
     "end_time": "2023-01-31T18:52:26.474722Z",
     "start_time": "2023-01-31T18:52:26.460488Z"
    },
    "id": "U--T2Gjw1r27"
   },
   "outputs": [],
   "source": [
    "from tqdm.notebook import tqdm\n",
    "\n",
    "\n",
    "def training(model, optimizer, criterion, train_loader, epoch, scheduler, device=\"cpu\"):\n",
    "    pbar = tqdm(train_loader, desc=f\"Epoch {epoch + 1}. Train Loss: {0}\")\n",
    "    model.to(device)\n",
    "    model.train()\n",
    "    \n",
    "    \n",
    "    for batch in pbar:\n",
    "        features = batch[\"features\"].to(device)\n",
    "        targets = batch[\"targets\"].to(device)\n",
    "\n",
    "        optimizer.zero_grad()\n",
    "        preds = model(features)\n",
    "        # Получи предсказания модели\n",
    "        loss = criterion(preds, targets)# Посчитай лосс\n",
    "        loss.backward()\n",
    "        # Обнови параметры модели\n",
    "        optimizer.step()\n",
    "        \n",
    "        \n",
    "        pbar.set_description(f\"Epoch {e + 1}. Train Loss: {loss:.4}\")\n",
    "    scheduler.step()\n",
    "\n",
    "def testing(model, criterion, test_loader, device=\"cpu\"):\n",
    "    pbar = tqdm(test_loader, desc=f\"Test Loss: {0}, Test Acc: {0}\")\n",
    "    mean_loss = 0\n",
    "    mean_acc = 0\n",
    "    model.to(device)\n",
    "    model.eval()\n",
    "    with torch.no_grad():\n",
    "        for batch in pbar:\n",
    "            features = batch[\"features\"].to(device)\n",
    "            targets = batch[\"targets\"].to(device)\n",
    "\n",
    "            # Получи предсказания модели\n",
    "            preds = model(features)\n",
    "            loss = criterion(preds, targets) # Посчитай лосс\n",
    "            pred_labels = torch.argmax(preds, 1)\n",
    "            acc = torch.sum(pred_labels == targets) / batch_size # Посчитай точность модели\n",
    "\n",
    "            mean_loss += loss.item()\n",
    "            mean_acc += acc.item()\n",
    "\n",
    "            pbar.set_description(f\"Test Loss: {loss:.4}, Test Acc: {acc:.4}\")\n",
    "\n",
    "    pbar.set_description(f\"Test Loss: {mean_loss / len(test_loader):.4}, Test Acc: {mean_acc / len(test_loader):.4}\")\n",
    "\n",
    "    return {\"Test Loss\": mean_loss / len(test_loader), \"Test Acc\": mean_acc / len(test_loader)}"
   ]
  },
  {
   "cell_type": "markdown",
   "metadata": {
    "id": "oVg_XBBb-YBH"
   },
   "source": [
    "Создадим модель, оптимизатор и целевую функцию. Вы можете сами выбрать количество слоев в нейронной сети, ваш любимый оптимизатор и целевую функцию.\n"
   ]
  },
  {
   "cell_type": "code",
   "execution_count": 23,
   "metadata": {
    "ExecuteTime": {
     "end_time": "2023-01-31T18:52:26.496627Z",
     "start_time": "2023-01-31T18:52:26.476315Z"
    },
    "id": "EBoZ4F3Fx1Hm"
   },
   "outputs": [],
   "source": [
    "import torch.nn as nn\n",
    "from torch.optim import Adam, lr_scheduler\n",
    "from collections import OrderedDict\n",
    "\n",
    "# Не забудь поиграться с параметрами ;)\n",
    "vector_size = dev.word2vec.vector_size\n",
    "num_classes = 2\n",
    "lr = 1e-2\n",
    "num_epochs = 3\n",
    "\n",
    "#модель не была построена очень глубокой, потому что скор в данном задании не так важен\n",
    "#параметры обучения модели были подобраны\n",
    "model = nn.Sequential(OrderedDict([\n",
    "    (\"linear1\", nn.Linear(vector_size, 256)),\n",
    "    (\"activation1\", nn.LeakyReLU()),\n",
    "    (\"batch_norm1\", nn.BatchNorm1d(256)),\n",
    "    (\"linear2\", nn.Linear(256, 128)),\n",
    "    (\"activation2\", nn.LeakyReLU()),\n",
    "    (\"batch_norm2\", nn.BatchNorm1d(128)),\n",
    "    (\"linear3\", nn.Linear(128, 64)),\n",
    "    (\"activation3\", nn.LeakyReLU()),\n",
    "    (\"batch_norm3\", nn.BatchNorm1d(64)),\n",
    "    (\"linear4\", nn.Linear(64, 32)),\n",
    "    (\"activation4\", nn.LeakyReLU()),\n",
    "    (\"batch_norm4\", nn.BatchNorm1d(32)),\n",
    "    (\"linear5\", nn.Linear(32, 16)),\n",
    "    (\"activation4\", nn.LeakyReLU()),\n",
    "    (\"linear6\", nn.Linear(16, num_classes)),\n",
    "]))# Твоя модель\n",
    "model = model.to(device)\n",
    "criterion = nn.CrossEntropyLoss()# Твой лосс\n",
    "optimizer = Adam(model.parameters(), lr=lr)# Твой оптимайзер\n",
    "exp_lr_scheduler = lr_scheduler.StepLR(optimizer, step_size=2, gamma=0.1)"
   ]
  },
  {
   "cell_type": "markdown",
   "metadata": {
    "id": "-AitU8AR-zBj"
   },
   "source": [
    "Наконец, обучим модель и протестируем её.\n",
    "\n",
    "После каждой эпохи будем проверять качество модели на валидационной части датасета. Если метрика стала лучше, будем сохранять модель. **Подумайте, какая метрика (точность или лосс) будет лучше работать в этой задаче?** "
   ]
  },
  {
   "cell_type": "code",
   "execution_count": 24,
   "metadata": {
    "ExecuteTime": {
     "end_time": "2023-01-31T18:52:26.503516Z",
     "start_time": "2023-01-31T18:52:26.498406Z"
    }
   },
   "outputs": [
    {
     "name": "stdout",
     "output_type": "stream",
     "text": [
      "Распределение таргета 0.5\n"
     ]
    }
   ],
   "source": [
    "print(f\"Распределение таргета {dev_data.emotion.sum() / dev_data.emotion.shape[0]:.3}\")"
   ]
  },
  {
   "cell_type": "code",
   "execution_count": 25,
   "metadata": {
    "ExecuteTime": {
     "end_time": "2023-01-31T18:58:10.799460Z",
     "start_time": "2023-01-31T18:52:26.505315Z"
    },
    "id": "gKhk71Pmx1F1",
    "scrolled": false
   },
   "outputs": [
    {
     "data": {
      "application/vnd.jupyter.widget-view+json": {
       "model_id": "8c0fb007b5284414ae154270c63531e0",
       "version_major": 2,
       "version_minor": 0
      },
      "text/plain": [
       "Epoch 1. Train Loss: 0:   0%|          | 0/1000 [00:00<?, ?it/s]"
      ]
     },
     "metadata": {},
     "output_type": "display_data"
    },
    {
     "data": {
      "application/vnd.jupyter.widget-view+json": {
       "model_id": "a0c6fba47cef490cbce3b8d3a5f19307",
       "version_major": 2,
       "version_minor": 0
      },
      "text/plain": [
       "Test Loss: 0, Test Acc: 0:   0%|          | 0/250 [00:00<?, ?it/s]"
      ]
     },
     "metadata": {},
     "output_type": "display_data"
    },
    {
     "name": "stdout",
     "output_type": "stream",
     "text": [
      "{'Test Loss': 0.5154001960754394, 'Test Acc': 0.741171875}\n"
     ]
    },
    {
     "data": {
      "application/vnd.jupyter.widget-view+json": {
       "model_id": "e480b5cd723c4a5ea024095c57448028",
       "version_major": 2,
       "version_minor": 0
      },
      "text/plain": [
       "Epoch 2. Train Loss: 0:   0%|          | 0/1000 [00:00<?, ?it/s]"
      ]
     },
     "metadata": {},
     "output_type": "display_data"
    },
    {
     "data": {
      "application/vnd.jupyter.widget-view+json": {
       "model_id": "d6b9ca2afa294a9a9d4328de694fb84e",
       "version_major": 2,
       "version_minor": 0
      },
      "text/plain": [
       "Test Loss: 0, Test Acc: 0:   0%|          | 0/250 [00:00<?, ?it/s]"
      ]
     },
     "metadata": {},
     "output_type": "display_data"
    },
    {
     "name": "stdout",
     "output_type": "stream",
     "text": [
      "{'Test Loss': 0.5065038874149322, 'Test Acc': 0.74887109375}\n"
     ]
    },
    {
     "data": {
      "application/vnd.jupyter.widget-view+json": {
       "model_id": "c8a4254d170e4749892b6751d931a4a6",
       "version_major": 2,
       "version_minor": 0
      },
      "text/plain": [
       "Epoch 3. Train Loss: 0:   0%|          | 0/1000 [00:00<?, ?it/s]"
      ]
     },
     "metadata": {},
     "output_type": "display_data"
    },
    {
     "data": {
      "application/vnd.jupyter.widget-view+json": {
       "model_id": "8780a6eb1f7b4546972e7728343a11ef",
       "version_major": 2,
       "version_minor": 0
      },
      "text/plain": [
       "Test Loss: 0, Test Acc: 0:   0%|          | 0/250 [00:00<?, ?it/s]"
      ]
     },
     "metadata": {},
     "output_type": "display_data"
    },
    {
     "name": "stdout",
     "output_type": "stream",
     "text": [
      "{'Test Loss': 0.498893779873848, 'Test Acc': 0.75318359375}\n"
     ]
    }
   ],
   "source": [
    "best_metric = np.inf\n",
    "for e in range(num_epochs):\n",
    "    training(model, optimizer, criterion, train_loader, e, exp_lr_scheduler, device)\n",
    "    log = testing(model, criterion, valid_loader, device)\n",
    "    print(log)\n",
    "    if log[\"Test Loss\"] < best_metric:\n",
    "        torch.save(model.state_dict(), \"model.pt\")\n",
    "        best_metric = log[\"Test Loss\"]"
   ]
  },
  {
   "cell_type": "code",
   "execution_count": 26,
   "metadata": {
    "ExecuteTime": {
     "end_time": "2023-01-31T18:58:35.304456Z",
     "start_time": "2023-01-31T18:58:10.801505Z"
    },
    "id": "di4dGwD4x1Dt"
   },
   "outputs": [
    {
     "data": {
      "application/vnd.jupyter.widget-view+json": {
       "model_id": "cbab28549f7e4720aa1fa72b2970632d",
       "version_major": 2,
       "version_minor": 0
      },
      "text/plain": [
       "Test Loss: 0, Test Acc: 0:   0%|          | 0/313 [00:00<?, ?it/s]"
      ]
     },
     "metadata": {},
     "output_type": "display_data"
    },
    {
     "name": "stdout",
     "output_type": "stream",
     "text": [
      "{'Test Loss': 0.5003211165007692, 'Test Acc': 0.7511200828674122}\n"
     ]
    }
   ],
   "source": [
    "test_loader = DataLoader(\n",
    "    TwitterDataset(test_data, \"text\", \"emotion\", word2vec), \n",
    "    batch_size=batch_size, \n",
    "    num_workers=num_workers, \n",
    "    shuffle=False,\n",
    "    drop_last=False, \n",
    "    collate_fn=average_emb)\n",
    "\n",
    "model.load_state_dict(torch.load(\"model.pt\", map_location=device))\n",
    "\n",
    "print(testing(model, criterion, test_loader, device=device))"
   ]
  },
  {
   "cell_type": "markdown",
   "metadata": {},
   "source": [
    "**Т.к. в нашей задаче ключевой метрикой является accuracy и классы сбалансированы, то точность является более явным показателем для мониторинга данной задачи**"
   ]
  },
  {
   "cell_type": "markdown",
   "metadata": {
    "id": "ZRvzpldHSAu0"
   },
   "source": [
    "## Embeddings for unknown words (8 баллов)\n",
    "\n",
    "Пока что использовалась не вся информация из текста. Часть информации фильтровалось – если слова не было в словаре эмбеддингов, то мы просто превращали слово в нулевой вектор. Хочется использовать информацию по-максимуму. Поэтому рассмотрим другие способы обработки слов, которых нет в словаре. А именно:\n",
    "\n",
    "- Для каждого незнакомого слова будем запоминать его контекст(слова слева и справа от этого слова). Эмбеддингом нашего незнакомого слова будет сумма эмбеддингов всех слов из его контекста. (4 балла)\n",
    "- Для каждого слова текста получим его эмбеддинг из Tfidf с помощью ```TfidfVectorizer``` из [sklearn](https://scikit-learn.org/stable/modules/generated/sklearn.feature_extraction.text.TfidfVectorizer.html#sklearn.feature_extraction.text.TfidfVectorizer). Итоговым эмбеддингом для каждого слова будет сумма двух эмбеддингов: предобученного и Tfidf-ного. Для слов, которых нет в словаре предобученных эмбеддингов, результирующий эмбеддинг будет просто полученный из Tfidf. (4 балла)\n",
    "\n",
    "Реализуйте оба варианта **ниже**. Напишите, какой способ сработал лучше и ваши мысли, почему так получилось."
   ]
  },
  {
   "cell_type": "markdown",
   "metadata": {},
   "source": [
    "***Пояснение от выполняющего: в данной части будет использовано большое количество добущений, которые по моему мнению кажутся верными***"
   ]
  },
  {
   "cell_type": "markdown",
   "metadata": {},
   "source": [
    "### Контекстное представление слова"
   ]
  },
  {
   "cell_type": "code",
   "execution_count": 27,
   "metadata": {
    "ExecuteTime": {
     "end_time": "2023-01-31T18:58:35.312675Z",
     "start_time": "2023-01-31T18:58:35.305908Z"
    },
    "id": "RxhEpKalU1UQ"
   },
   "outputs": [],
   "source": [
    "from torch.utils.data import Dataset, random_split\n",
    "from nltk.corpus import stopwords\n",
    "\n",
    "class TwitterDatasetNeighbors(TwitterDataset):\n",
    "    def get_tokens_(self, text):\n",
    "        # Получи все токены из текста и профильтруй их\n",
    "        text = re.sub(r\"^@(\\w+)\\b\", \"\", text)\n",
    "        tokenized_text = self.tokenizer.tokenize(text.lower())\n",
    "        filted_stops_and_punct_tokens = [token for token in tokenized_text\n",
    "                                  if all(ch not in string.punctuation for ch in token) \n",
    "                                         and len(token)>2]\n",
    "        return filted_stops_and_punct_tokens\n",
    "       \n",
    "    def get_embeddings_(self, tokens, neighbors_window=2):\n",
    "        embeddings = []\n",
    "        if len(tokens) == 0:\n",
    "            return np.zeros((1, self.word2vec.vector_size))\n",
    "        else:\n",
    "            for i, tok in enumerate(tokens):\n",
    "                if tok in self.word2vec:#если есть слово в словаре делаем его эмбеддинг\n",
    "                    embeddings.append(self.word2vec.get_vector(tok))\n",
    "                else:\n",
    "                    neighbors_emb_list = []\n",
    "                    start_idx = max(0, i - neighbors_window)\n",
    "                    end_idx = min(len(tokens), i + neighbors_window + 1)\n",
    "\n",
    "                    for j in range(start_idx, end_idx):\n",
    "                        if i != j:\n",
    "                            if tokens[j] in self.word2vec:\n",
    "                                neighbors_emb_list.append(self.word2vec.get_vector(tokens[j]))  \n",
    "                            else:\n",
    "                                # нулевой вектор должен быть нулевым при нормировке\n",
    "                                neighbors_emb_list.append(np.zeros(self.word2vec.vector_size) + self.mean)\n",
    "                    if len(neighbors_emb_list) != 0:\n",
    "                        embeddings.append(np.concatenate(neighbors_emb_list, axis=0).mean(axis=0))\n",
    "                    else:\n",
    "                        embeddings.append(np.zeros(self.word2vec.vector_size) + self.mean)\n",
    "\n",
    "            embeddings = np.array([(emb - self.mean) / self.std for emb in embeddings])\n",
    "            if len(embeddings.shape) == 1:\n",
    "                    embeddings = embeddings.reshape(-1, 1)\n",
    "            return embeddings"
   ]
  },
  {
   "cell_type": "code",
   "execution_count": 28,
   "metadata": {
    "ExecuteTime": {
     "end_time": "2023-01-31T18:58:37.080421Z",
     "start_time": "2023-01-31T18:58:35.319422Z"
    }
   },
   "outputs": [],
   "source": [
    "dev_neighbors = TwitterDatasetNeighbors(dev_data, \"text\", \"emotion\", word2vec)"
   ]
  },
  {
   "cell_type": "code",
   "execution_count": 29,
   "metadata": {
    "ExecuteTime": {
     "end_time": "2023-01-31T18:58:37.128886Z",
     "start_time": "2023-01-31T18:58:37.081939Z"
    }
   },
   "outputs": [],
   "source": [
    "train_size_neigh = math.ceil(len(dev_neighbors) * 0.8)\n",
    "\n",
    "train_neigh, valid_neigh = random_split(dev_neighbors, \n",
    "                                        [train_size_neigh, len(dev_neighbors) - train_size_neigh])\n",
    "\n",
    "train_loader_neigh = DataLoader(train_neigh, \n",
    "                                batch_size=batch_size, \n",
    "                                num_workers=num_workers, \n",
    "                                shuffle=True, \n",
    "                                drop_last=True,\n",
    "                                collate_fn=average_emb)\n",
    "valid_loader_neigh = DataLoader(valid_neigh, \n",
    "                                batch_size=batch_size, \n",
    "                                num_workers=num_workers, \n",
    "                                shuffle=False, \n",
    "                                drop_last=False, \n",
    "                                collate_fn=average_emb)"
   ]
  },
  {
   "cell_type": "code",
   "execution_count": 30,
   "metadata": {
    "ExecuteTime": {
     "end_time": "2023-01-31T18:58:37.154819Z",
     "start_time": "2023-01-31T18:58:37.130436Z"
    }
   },
   "outputs": [],
   "source": [
    "# Не забудь поиграться с параметрами ;)\n",
    "vector_size = dev_neighbors.word2vec.vector_size\n",
    "num_classes = 2\n",
    "lr = 1e-2\n",
    "num_epochs = 4\n",
    "\n",
    "#модель не была построена очень глубокой, потому что скор в данном задании не так важен\n",
    "#параметры обучения модели были подобраны\n",
    "model = nn.Sequential(OrderedDict([\n",
    "    (\"linear1\", nn.Linear(vector_size, 256)),\n",
    "    (\"activation1\", nn.LeakyReLU()),\n",
    "    (\"batch_norm1\", nn.BatchNorm1d(256)),\n",
    "    (\"linear2\", nn.Linear(256, 128)),\n",
    "    (\"activation2\", nn.LeakyReLU()),\n",
    "    (\"batch_norm2\", nn.BatchNorm1d(128)),\n",
    "    (\"linear3\", nn.Linear(128, 64)),\n",
    "    (\"activation3\", nn.LeakyReLU()),\n",
    "    (\"batch_norm3\", nn.BatchNorm1d(64)),\n",
    "    (\"linear4\", nn.Linear(64, 32)),\n",
    "    (\"activation4\", nn.LeakyReLU()),\n",
    "    (\"batch_norm4\", nn.BatchNorm1d(32)),\n",
    "    (\"linear5\", nn.Linear(32, 16)),\n",
    "    (\"activation4\", nn.LeakyReLU()),\n",
    "    (\"linear6\", nn.Linear(16, num_classes)),\n",
    "]))# Твоя модель\n",
    "model = model.to(device)\n",
    "criterion = nn.CrossEntropyLoss()# Твой лосс\n",
    "optimizer = Adam(model.parameters(), lr=lr)# Твой оптимайзер\n",
    "exp_lr_scheduler = lr_scheduler.StepLR(optimizer, step_size=2, gamma=0.1)"
   ]
  },
  {
   "cell_type": "code",
   "execution_count": 31,
   "metadata": {
    "ExecuteTime": {
     "end_time": "2023-01-31T19:08:02.641634Z",
     "start_time": "2023-01-31T18:58:37.156179Z"
    }
   },
   "outputs": [
    {
     "data": {
      "application/vnd.jupyter.widget-view+json": {
       "model_id": "0b72af8be6cf49bb902fdf7a999cc1f4",
       "version_major": 2,
       "version_minor": 0
      },
      "text/plain": [
       "Epoch 1. Train Loss: 0:   0%|          | 0/1000 [00:00<?, ?it/s]"
      ]
     },
     "metadata": {},
     "output_type": "display_data"
    },
    {
     "data": {
      "application/vnd.jupyter.widget-view+json": {
       "model_id": "0ce1a43f717c4ed3b612e97f93e97de4",
       "version_major": 2,
       "version_minor": 0
      },
      "text/plain": [
       "Test Loss: 0, Test Acc: 0:   0%|          | 0/250 [00:00<?, ?it/s]"
      ]
     },
     "metadata": {},
     "output_type": "display_data"
    },
    {
     "name": "stdout",
     "output_type": "stream",
     "text": [
      "{'Test Loss': 0.47856474459171294, 'Test Acc': 0.76765234375}\n"
     ]
    },
    {
     "data": {
      "application/vnd.jupyter.widget-view+json": {
       "model_id": "77168bce2ccb42b88cd3710b88dbeb4f",
       "version_major": 2,
       "version_minor": 0
      },
      "text/plain": [
       "Epoch 2. Train Loss: 0:   0%|          | 0/1000 [00:00<?, ?it/s]"
      ]
     },
     "metadata": {},
     "output_type": "display_data"
    },
    {
     "data": {
      "application/vnd.jupyter.widget-view+json": {
       "model_id": "844ff8074ea742859690d3e0fa0693c9",
       "version_major": 2,
       "version_minor": 0
      },
      "text/plain": [
       "Test Loss: 0, Test Acc: 0:   0%|          | 0/250 [00:00<?, ?it/s]"
      ]
     },
     "metadata": {},
     "output_type": "display_data"
    },
    {
     "name": "stdout",
     "output_type": "stream",
     "text": [
      "{'Test Loss': 0.4744163228273392, 'Test Acc': 0.77103125}\n"
     ]
    },
    {
     "data": {
      "application/vnd.jupyter.widget-view+json": {
       "model_id": "0c49fe3e759047a8a2822a8a6b18153a",
       "version_major": 2,
       "version_minor": 0
      },
      "text/plain": [
       "Epoch 3. Train Loss: 0:   0%|          | 0/1000 [00:00<?, ?it/s]"
      ]
     },
     "metadata": {},
     "output_type": "display_data"
    },
    {
     "data": {
      "application/vnd.jupyter.widget-view+json": {
       "model_id": "68e1e2529f3a4d7ea98d94ca082a8eda",
       "version_major": 2,
       "version_minor": 0
      },
      "text/plain": [
       "Test Loss: 0, Test Acc: 0:   0%|          | 0/250 [00:00<?, ?it/s]"
      ]
     },
     "metadata": {},
     "output_type": "display_data"
    },
    {
     "name": "stdout",
     "output_type": "stream",
     "text": [
      "{'Test Loss': 0.4576653280258179, 'Test Acc': 0.77996484375}\n"
     ]
    },
    {
     "data": {
      "application/vnd.jupyter.widget-view+json": {
       "model_id": "39211f089ef143e89659a9db41a715f3",
       "version_major": 2,
       "version_minor": 0
      },
      "text/plain": [
       "Epoch 4. Train Loss: 0:   0%|          | 0/1000 [00:00<?, ?it/s]"
      ]
     },
     "metadata": {},
     "output_type": "display_data"
    },
    {
     "data": {
      "application/vnd.jupyter.widget-view+json": {
       "model_id": "2b72fa4e7a014ba0a65f6d741ceff0cd",
       "version_major": 2,
       "version_minor": 0
      },
      "text/plain": [
       "Test Loss: 0, Test Acc: 0:   0%|          | 0/250 [00:00<?, ?it/s]"
      ]
     },
     "metadata": {},
     "output_type": "display_data"
    },
    {
     "name": "stdout",
     "output_type": "stream",
     "text": [
      "{'Test Loss': 0.45614716601371763, 'Test Acc': 0.78106640625}\n"
     ]
    }
   ],
   "source": [
    "best_metric = np.inf\n",
    "for e in range(num_epochs):\n",
    "    training(model, \n",
    "             optimizer, \n",
    "             criterion, \n",
    "             train_loader_neigh, \n",
    "             e, \n",
    "             exp_lr_scheduler, \n",
    "             device)\n",
    "    log = testing(model, criterion, valid_loader_neigh, device)\n",
    "    print(log)\n",
    "    if log[\"Test Loss\"] < best_metric:\n",
    "        torch.save(model.state_dict(), \"model_neighbors.pt\")\n",
    "        best_metric = log[\"Test Loss\"]"
   ]
  },
  {
   "cell_type": "code",
   "execution_count": 32,
   "metadata": {
    "ExecuteTime": {
     "end_time": "2023-01-31T19:08:38.373771Z",
     "start_time": "2023-01-31T19:08:02.642945Z"
    }
   },
   "outputs": [
    {
     "data": {
      "application/vnd.jupyter.widget-view+json": {
       "model_id": "ac24b39e176a49dca546f770366deb41",
       "version_major": 2,
       "version_minor": 0
      },
      "text/plain": [
       "Test Loss: 0, Test Acc: 0:   0%|          | 0/313 [00:00<?, ?it/s]"
      ]
     },
     "metadata": {},
     "output_type": "display_data"
    },
    {
     "name": "stdout",
     "output_type": "stream",
     "text": [
      "{'Test Loss': 0.45521795825836375, 'Test Acc': 0.7808038388578274}\n"
     ]
    }
   ],
   "source": [
    "test_loader = DataLoader(\n",
    "    TwitterDatasetNeighbors(test_data, \"text\", \"emotion\", word2vec), \n",
    "    batch_size=batch_size, \n",
    "    num_workers=num_workers, \n",
    "    shuffle=False,\n",
    "    drop_last=False, \n",
    "    collate_fn=average_emb)\n",
    "\n",
    "model.load_state_dict(torch.load(\"model_neighbors.pt\", map_location=device))\n",
    "\n",
    "print(testing(model, criterion, test_loader, device=device))"
   ]
  },
  {
   "cell_type": "markdown",
   "metadata": {},
   "source": [
    "**Изменение размера окна критически не полияло на качество модели (может быть связано с процессом токенизации - мы пропускаем часть токенов), но в ходе экспериментов было решено учитывать окно размера 2**"
   ]
  },
  {
   "cell_type": "markdown",
   "metadata": {},
   "source": [
    "### Представление с помощью TF-IDF"
   ]
  },
  {
   "cell_type": "markdown",
   "metadata": {},
   "source": [
    "**TF-IDF представление будет реализовываться сразу в коде создания датасета. Идея заключается в том, что представление каждого слова будет уменьшено до 300, чтобы можно было сложить с вектором из word2vec**"
   ]
  },
  {
   "cell_type": "code",
   "execution_count": 33,
   "metadata": {
    "ExecuteTime": {
     "end_time": "2023-01-31T19:08:38.386392Z",
     "start_time": "2023-01-31T19:08:38.375807Z"
    }
   },
   "outputs": [],
   "source": [
    "from torch.utils.data import Dataset, random_split\n",
    "from nltk.corpus import stopwords\n",
    "from sklearn import decomposition\n",
    "from sklearn.feature_extraction.text import TfidfVectorizer\n",
    "\n",
    "class TwitterDatasetTFIDF(Dataset):\n",
    "    def __init__(self, data: pd.DataFrame, \n",
    "                 feature_column: str, \n",
    "                 target_column: str, \n",
    "                 word2vec: gensim.models.Word2Vec,\n",
    "                 tfidf_df: pd.core.frame.DataFrame = None):\n",
    "        \n",
    "        \n",
    "        self.tokenizer = nltk.WordPunctTokenizer()\n",
    "        self.stop_words = set(stopwords.words('english'))\n",
    "        \n",
    "        self.data = data\n",
    "        \n",
    "        self.feature_column = feature_column\n",
    "        self.target_column = target_column\n",
    "\n",
    "        self.word2vec = word2vec\n",
    "\n",
    "        self.label2num = lambda label: 0 if label == 0 else 1\n",
    "        self.mean = np.mean(word2vec.vectors, axis=0)\n",
    "        self.std = np.std(word2vec.vectors, axis=0)\n",
    "        \n",
    "        self.tfidf_df = tfidf_df\n",
    "        if self.tfidf_df is None:\n",
    "            self.reductor = decomposition.TruncatedSVD(n_components=300, \n",
    "                                                  random_state=69)\n",
    "            self.tfidf_vect = TfidfVectorizer(min_df=5, \n",
    "                                              tokenizer=tokenizer.tokenize,\n",
    "                                              token_pattern=None,\n",
    "                                              stop_words=\"english\")\n",
    "            \n",
    "            transformed_corpus = self.tfidf_vect.fit_transform(self.data[self.feature_column]).T\n",
    "            reducted_transformed_corpus = self.reductor.fit_transform(transformed_corpus)\n",
    "            \n",
    "            self.tfidf_df = pd.DataFrame(reducted_transformed_corpus, \n",
    "                                         index=self.tfidf_vect.get_feature_names_out(),\n",
    "                                         columns=range(self.word2vec.vector_size))\n",
    "            \n",
    "            del transformed_corpus, reducted_transformed_corpus\n",
    "            \n",
    "    def __getitem__(self, item):\n",
    "        text = self.data[self.feature_column][item]\n",
    "        label = self.label2num(self.data[self.target_column][item])\n",
    "\n",
    "        tokens = self.get_tokens_(text)\n",
    "        embeddings = self.get_embeddings_(tokens)\n",
    "\n",
    "        return {\"feature\": embeddings, \"target\": label}\n",
    "\n",
    "    def get_tokens_(self, text):\n",
    "        # Получи все токены из текста и профильтруй их\n",
    "        text = re.sub(r\"^@(\\w+)\\b\", \"\", text)\n",
    "        tokenized_text = self.tokenizer.tokenize(text.lower())\n",
    "        filted_stops_and_punct_tokens = [token for token in tokenized_text\n",
    "                                  if all(ch not in string.punctuation for ch in token)\n",
    "                                  and token not in self.stop_words and len(token)>2]\n",
    "        return filted_stops_and_punct_tokens\n",
    "        \n",
    "    def get_embeddings_(self, tokens):\n",
    "        embeddings = []\n",
    "        for token in tokens:\n",
    "            try:\n",
    "                tfidf_emb = self.tfidf_df.loc[token]\n",
    "            except KeyError:\n",
    "                tfidf_emb = np.zeros(self.word2vec.vector_size)+self.mean\n",
    "                \n",
    "            if token in self.word2vec:\n",
    "                embeddings.append((tfidf_emb + \n",
    "                                  self.word2vec.get_vector(token) -\n",
    "                                  self.mean) / self.std)\n",
    "            else:\n",
    "                embeddings.append((tfidf_emb -\n",
    "                                  self.mean) / self.std)\n",
    "        # Получи эмбеддинги слов и усредни их (наверное нужно нормализовать их)\n",
    "\n",
    "        if len(embeddings) == 0:\n",
    "            embeddings = np.zeros((1, self.word2vec.vector_size))\n",
    "        else:\n",
    "            embeddings = np.array(embeddings)\n",
    "            if len(embeddings.shape) == 1:\n",
    "                embeddings = embeddings.reshape(-1, 1)\n",
    "\n",
    "        return embeddings\n",
    "\n",
    "    def __len__(self):\n",
    "        return self.data.shape[0]"
   ]
  },
  {
   "cell_type": "code",
   "execution_count": 34,
   "metadata": {
    "ExecuteTime": {
     "end_time": "2023-01-31T19:12:20.790422Z",
     "start_time": "2023-01-31T19:08:38.387968Z"
    }
   },
   "outputs": [],
   "source": [
    "dev_tfidf = TwitterDatasetTFIDF(dev_data, \"text\", \"emotion\", word2vec)"
   ]
  },
  {
   "cell_type": "code",
   "execution_count": 35,
   "metadata": {
    "ExecuteTime": {
     "end_time": "2023-01-31T19:12:20.875722Z",
     "start_time": "2023-01-31T19:12:20.795970Z"
    }
   },
   "outputs": [],
   "source": [
    "train_size_tfidf = math.ceil(len(dev_tfidf) * 0.8)\n",
    "\n",
    "train_tfidf, valid_tfidf = random_split(dev_tfidf, \n",
    "                                        [train_size_tfidf, len(dev_tfidf) - train_size_tfidf])\n",
    "\n",
    "train_loader_tfidf = DataLoader(train_tfidf, \n",
    "                                batch_size=batch_size, \n",
    "                                num_workers=num_workers, \n",
    "                                shuffle=True, \n",
    "                                drop_last=True,\n",
    "                                collate_fn=average_emb)\n",
    "valid_loader_tfidf = DataLoader(valid_tfidf, \n",
    "                                batch_size=batch_size, \n",
    "                                num_workers=num_workers, \n",
    "                                shuffle=False, \n",
    "                                drop_last=False, \n",
    "                                collate_fn=average_emb)"
   ]
  },
  {
   "cell_type": "code",
   "execution_count": 36,
   "metadata": {
    "ExecuteTime": {
     "end_time": "2023-01-31T19:12:20.958520Z",
     "start_time": "2023-01-31T19:12:20.878514Z"
    }
   },
   "outputs": [],
   "source": [
    "# Не забудь поиграться с параметрами ;)\n",
    "vector_size = dev_tfidf.word2vec.vector_size\n",
    "num_classes = 2\n",
    "lr = 1e-2\n",
    "num_epochs = 2\n",
    "\n",
    "#модель не была построена очень глубокой, потому что скор в данном задании не так важен\n",
    "#параметры обучения модели были подобраны\n",
    "model = nn.Sequential(OrderedDict([\n",
    "    (\"linear1\", nn.Linear(vector_size, 256)),\n",
    "    (\"activation1\", nn.LeakyReLU()),\n",
    "    (\"batch_norm1\", nn.BatchNorm1d(256)),\n",
    "    (\"linear2\", nn.Linear(256, 128)),\n",
    "    (\"activation2\", nn.LeakyReLU()),\n",
    "    (\"batch_norm2\", nn.BatchNorm1d(128)),\n",
    "    (\"linear3\", nn.Linear(128, 64)),\n",
    "    (\"activation3\", nn.LeakyReLU()),\n",
    "    (\"batch_norm3\", nn.BatchNorm1d(64)),\n",
    "    (\"linear4\", nn.Linear(64, 32)),\n",
    "    (\"activation4\", nn.LeakyReLU()),\n",
    "    (\"batch_norm4\", nn.BatchNorm1d(32)),\n",
    "    (\"linear5\", nn.Linear(32, 16)),\n",
    "    (\"activation4\", nn.LeakyReLU()),\n",
    "    (\"linear6\", nn.Linear(16, num_classes)),\n",
    "]))# Твоя модель\n",
    "model = model.to(device)\n",
    "criterion = nn.CrossEntropyLoss()# Твой лосс\n",
    "optimizer = Adam(model.parameters(), lr=lr)# Твой оптимайзер\n",
    "exp_lr_scheduler = lr_scheduler.StepLR(optimizer, step_size=1, gamma=0.1)"
   ]
  },
  {
   "cell_type": "code",
   "execution_count": 37,
   "metadata": {
    "ExecuteTime": {
     "end_time": "2023-01-31T19:51:05.384951Z",
     "start_time": "2023-01-31T19:12:20.960607Z"
    }
   },
   "outputs": [
    {
     "data": {
      "application/vnd.jupyter.widget-view+json": {
       "model_id": "50cba6a67ae24211a7cbe383043418a2",
       "version_major": 2,
       "version_minor": 0
      },
      "text/plain": [
       "Epoch 1. Train Loss: 0:   0%|          | 0/1000 [00:00<?, ?it/s]"
      ]
     },
     "metadata": {},
     "output_type": "display_data"
    },
    {
     "data": {
      "application/vnd.jupyter.widget-view+json": {
       "model_id": "b80945179acc4fac8c5a6e99767b23a0",
       "version_major": 2,
       "version_minor": 0
      },
      "text/plain": [
       "Test Loss: 0, Test Acc: 0:   0%|          | 0/250 [00:00<?, ?it/s]"
      ]
     },
     "metadata": {},
     "output_type": "display_data"
    },
    {
     "name": "stdout",
     "output_type": "stream",
     "text": [
      "{'Test Loss': 0.5167725727558136, 'Test Acc': 0.73965625}\n"
     ]
    },
    {
     "data": {
      "application/vnd.jupyter.widget-view+json": {
       "model_id": "bf51b7e57231438ca6c51a8e1d11b1bf",
       "version_major": 2,
       "version_minor": 0
      },
      "text/plain": [
       "Epoch 2. Train Loss: 0:   0%|          | 0/1000 [00:00<?, ?it/s]"
      ]
     },
     "metadata": {},
     "output_type": "display_data"
    },
    {
     "data": {
      "application/vnd.jupyter.widget-view+json": {
       "model_id": "651d36c6c71947d99598b1fff6c247d5",
       "version_major": 2,
       "version_minor": 0
      },
      "text/plain": [
       "Test Loss: 0, Test Acc: 0:   0%|          | 0/250 [00:00<?, ?it/s]"
      ]
     },
     "metadata": {},
     "output_type": "display_data"
    },
    {
     "name": "stdout",
     "output_type": "stream",
     "text": [
      "{'Test Loss': 0.5042776895761489, 'Test Acc': 0.74845703125}\n"
     ]
    }
   ],
   "source": [
    "best_metric = np.inf\n",
    "for e in range(num_epochs):\n",
    "    training(model, \n",
    "             optimizer, \n",
    "             criterion, \n",
    "             train_loader_tfidf, \n",
    "             e, \n",
    "             exp_lr_scheduler, \n",
    "             device)\n",
    "    log = testing(model, criterion, valid_loader_tfidf, device)\n",
    "    print(log)\n",
    "    if log[\"Test Loss\"] < best_metric:\n",
    "        torch.save(model.state_dict(), \"model_tfidf.pt\")\n",
    "        best_metric = log[\"Test Loss\"]"
   ]
  },
  {
   "cell_type": "code",
   "execution_count": 39,
   "metadata": {
    "ExecuteTime": {
     "end_time": "2023-01-31T20:01:24.051405Z",
     "start_time": "2023-01-31T19:56:28.880604Z"
    },
    "scrolled": false
   },
   "outputs": [
    {
     "data": {
      "application/vnd.jupyter.widget-view+json": {
       "model_id": "0c7d176882714fb0aab129173b80ca81",
       "version_major": 2,
       "version_minor": 0
      },
      "text/plain": [
       "Test Loss: 0, Test Acc: 0:   0%|          | 0/313 [00:00<?, ?it/s]"
      ]
     },
     "metadata": {},
     "output_type": "display_data"
    },
    {
     "name": "stdout",
     "output_type": "stream",
     "text": [
      "{'Test Loss': 0.5032428600155888, 'Test Acc': 0.7490608775958466}\n"
     ]
    }
   ],
   "source": [
    "test_loader = DataLoader(\n",
    "    TwitterDatasetTFIDF(test_data, \"text\", \"emotion\", word2vec, dev_tfidf.tfidf_df), \n",
    "    batch_size=batch_size, \n",
    "    num_workers=num_workers, \n",
    "    shuffle=False,\n",
    "    drop_last=False, \n",
    "    collate_fn=average_emb)\n",
    "\n",
    "model.load_state_dict(torch.load(\"model_tfidf.pt\", map_location=device))\n",
    "\n",
    "print(testing(model, criterion, test_loader, device=device))"
   ]
  },
  {
   "cell_type": "markdown",
   "metadata": {
    "ExecuteTime": {
     "end_time": "2023-02-01T06:36:25.963025Z",
     "start_time": "2023-02-01T06:36:25.954536Z"
    }
   },
   "source": [
    "### Выводы:\n",
    "1) В ходе этого задания была рассмотрена возможность представления предложения как среднего значения входящих в него слов, что также является оправданным подходом, как и представления в виде суммы слов.\n",
    "\n",
    "1) Целью домашнего задания было изучения методов представления предложений, поэтому нейронная сеть классификации не была сильно глубокая и параметры моделы были подобраны на небольшом количестве обучающих циклов. Архитектура для всех моделей была одинаковая. Поэтому если постараться, можно выбить и более высокую точность.\n",
    "\n",
    "1) Среди 3 подходов наилучшим по метрике оказался метод использования контекста для описания незнакомых слов, так же этот подход имеет небольшое время исполнение. Изменение размера окна соседей, на которых мы будет смотреть, критически не повлияло на качество модели, но наибольшая точность была достигнута при размере окна 2.\n",
    "\n",
    "1) Хорошую точность показал алгоритм с применением TF-IDF представления. Однако у этого принципа есть свои недостатки:\n",
    "- время представления TF-IDF для большого набора данных велико (TF-IDF+уменьшение размерности)\n",
    "- алгоритм плохо работает с новыми словами"
   ]
  },
  {
   "cell_type": "code",
   "execution_count": null,
   "metadata": {},
   "outputs": [],
   "source": []
  }
 ],
 "metadata": {
  "accelerator": "GPU",
  "colab": {
   "collapsed_sections": [],
   "name": "[homework]embeddings.ipynb",
   "private_outputs": true,
   "provenance": []
  },
  "kernelspec": {
   "display_name": "Python 3 (ipykernel)",
   "language": "python",
   "name": "python3"
  },
  "language_info": {
   "codemirror_mode": {
    "name": "ipython",
    "version": 3
   },
   "file_extension": ".py",
   "mimetype": "text/x-python",
   "name": "python",
   "nbconvert_exporter": "python",
   "pygments_lexer": "ipython3",
   "version": "3.9.13"
  },
  "varInspector": {
   "cols": {
    "lenName": 16,
    "lenType": 16,
    "lenVar": 40
   },
   "kernels_config": {
    "python": {
     "delete_cmd_postfix": "",
     "delete_cmd_prefix": "del ",
     "library": "var_list.py",
     "varRefreshCmd": "print(var_dic_list())"
    },
    "r": {
     "delete_cmd_postfix": ") ",
     "delete_cmd_prefix": "rm(",
     "library": "var_list.r",
     "varRefreshCmd": "cat(var_dic_list()) "
    }
   },
   "types_to_exclude": [
    "module",
    "function",
    "builtin_function_or_method",
    "instance",
    "_Feature"
   ],
   "window_display": false
  }
 },
 "nbformat": 4,
 "nbformat_minor": 1
}
